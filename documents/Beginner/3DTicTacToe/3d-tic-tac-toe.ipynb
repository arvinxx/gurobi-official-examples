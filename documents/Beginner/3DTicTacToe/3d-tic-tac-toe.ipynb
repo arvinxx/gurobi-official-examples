{
 "cells": [
  {
   "cell_type": "markdown",
   "metadata": {},
   "source": [
    "# 三维井字游戏\n",
    "\n",
    "等级：初级"
   ]
  },
  {
   "cell_type": "markdown",
   "metadata": {},
   "source": [
    "## 目的和先决条件\n",
    "\n",
    "该模型解决了在三维井字游戏板上排列 $X$ 和 $O$ 的问题，从而最大程度地减少了完成的线或对角线的数量。它演示了如何使用混合整数编程来捕获简单的逻辑约束。\n",
    "\n",
    "这是第五版《数学建模》（ H. Paul Williams 著）第272和327-328页的示例17。\n",
    "\n",
    "该建模示例处于初级阶段，我们假设你了解Python，并且具有一些有关构建数学优化模型的知识。希望你可以从示例中了解所有遗漏的概念。\n",
    "\n",
    "\n",
    "**注意：** 你可以通过单击 [此处](https://github.com/arvinxx/gurobi-and-mathematical-modeling/archive/master.zip) 下载包含此示例和其他示例的代码。为了正确运行此 Jupyter Notebook，你必须具有 Gurobi 许可证。如果你没有，则可以**商业用户身份**申请 [试用许可证](https://www.gurobi.com/downloads/request-an-evaluation-license/)，或以**学术用户身份**下载 [免费许可证](https://www.gurobi.com/academia/academic-program-and-licenses)。"
   ]
  },
  {
   "cell_type": "markdown",
   "metadata": {},
   "source": [
    "## 问题描述\n",
    "\n",
    "给定一个井字棋盘，玩家轮流放置$X$和 $O$，游戏通常在一个玩家完成一条线或一条对角线时结束；也就是说，当他们设法将自己的棋子放置在网格中形成线或对角线的三个单元格中时。游戏将持续到每个单元格都下满棋子位置。这里要达成的目标是排列棋子以最大程度地减少已完成的线或对角线的数量。"
   ]
  },
  {
   "cell_type": "markdown",
   "metadata": {},
   "source": [
    "## 模型制定\n",
    "\n",
    "\n",
    "\n",
    "### 决策变量\n",
    "\n",
    "$\\text{isX}_{ijk} \\in [0,1]$: 单元格 $(i,j,k)$ 是否包含 $X$ ($isX=1$) 或 $O$ ($isX=0$)？\n",
    "\n",
    "$\\text{isLine}_{l} \\in [0,1]$: 直线/对角线 $l$ 包含 3 个相同的棋子吗?\n",
    "\n",
    "### 目标函数\n",
    "\n",
    "- **连线**: 尽量减少完成的线或对角线的数量\n",
    "\n",
    "\\begin{equation}\n",
    "\\text{Minimize} \\quad Z = \\sum_{l \\in \\text{Lines}}\\text{isLine}_l\n",
    "\\end{equation}\n",
    "\n",
    "### 约束\n",
    "\n",
    "- **轮次**: 棋盘必须包含14个 $X$ 和13个 $O$ ($X$ 先下)。\n",
    "\n",
    "\\begin{equation}\n",
    "\\sum_{ijk} \\text{isX}_{ijk} = 14\n",
    "\\end{equation}\n",
    "\n",
    "- **连线**: 要使一行不完整，一行中的单元格必须有不同的值。我们可以观察到，如果3个单元格都是 $X$，那么相应的零一变量的和就是3，如果它们都是 $O$，那么它们的和就是0。 因此我们需要禁止 $isLine_l == 0$ 的情况。\n",
    "\n",
    "> 注意：$l_0$ 是 $l$ 行的第一个单元格，$l_1$ 是第二个，$l_2$ 是第三个单元格。\n",
    "\n",
    "\\begin{equation}\n",
    "\\text{isLine}_l == 0 \\implies isX[l_0] + isX[l_1] + isX[l_2] >= 1 \\quad \\forall l \\in \\text{Lines}\n",
    "\\end{equation}\n",
    "\n",
    "\\begin{equation}\n",
    "\\text{isLine}_l == 0 \\implies isX[l_0] + isX[l_1] + isX[l_2] <= 2 \\quad \\forall l \\in \\text{Lines}\n",
    "\\end{equation}\n",
    "\n"
   ]
  },
  {
   "cell_type": "markdown",
   "metadata": {},
   "source": [
    "## Python 实现\n",
    "\n",
    "首先导入模型"
   ]
  },
  {
   "cell_type": "code",
   "execution_count": 1,
   "metadata": {},
   "outputs": [],
   "source": [
    "import gurobipy as gp\n",
    "from gurobipy import GRB\n",
    "\n",
    "# 官方测试版本 Gurobi v9.0.0 & Python 3.7.0\n",
    "\n",
    "# 译者测试版本 Gurobi v9.1.0 & Python 3.8.6"
   ]
  },
  {
   "cell_type": "markdown",
   "metadata": {},
   "source": [
    "## 模型开发\n",
    "\n",
    "我们首先在三维井字棋盘上创建一个所有可能的线和对角线的列表。每个条目都表示为一个包含3个条目的 Python 元组，其中每个条目给出相应单元格的(i,j,k)位置。总共有49个。"
   ]
  },
  {
   "cell_type": "code",
   "execution_count": 2,
   "metadata": {},
   "outputs": [],
   "source": [
    "lines = []\n",
    "size = 3\n",
    "\n",
    "for i in range(size):\n",
    "    for j in range(size):\n",
    "        for k in range(size):\n",
    "            if i == 0:\n",
    "                lines.append(((0,j,k), (1,j,k), (2,j,k)))\n",
    "            if j == 0:\n",
    "                lines.append(((i,0,k), (i,1,k), (i,2,k)))\n",
    "            if k == 0:\n",
    "                lines.append(((i,j,0), (i,j,1), (i,j,2)))\n",
    "            if i == 0 and j == 0:\n",
    "                lines.append(((0,0,k), (1,1,k), (2,2,k)))\n",
    "            if i == 0 and j == 2:\n",
    "                lines.append(((0,2,k), (1,1,k), (2,0,k)))\n",
    "            if i == 0 and k == 0:\n",
    "                lines.append(((0,j,0), (1,j,1), (2,j,2)))\n",
    "            if i == 0 and k == 2:\n",
    "                lines.append(((0,j,2), (1,j,1), (2,j,0)))\n",
    "            if j == 0 and k == 0:\n",
    "                lines.append(((i,0,0), (i,1,1), (i,2,2)))\n",
    "            if j == 0 and k == 2:\n",
    "                lines.append(((i,0,2), (i,1,1), (i,2,0)))\n",
    "lines.append(((0,0,0), (1,1,1), (2,2,2)))\n",
    "lines.append(((2,0,0), (1,1,1), (0,2,2)))\n",
    "lines.append(((0,2,0), (1,1,1), (2,0,2)))\n",
    "lines.append(((0,0,2), (1,1,1), (2,2,0)))"
   ]
  },
  {
   "cell_type": "markdown",
   "metadata": {},
   "source": [
    "接下来，我们创建模型和决策变量。"
   ]
  },
  {
   "cell_type": "code",
   "execution_count": 3,
   "metadata": {},
   "outputs": [
    {
     "name": "stdout",
     "output_type": "stream",
     "text": [
      "Using license file /Users/arvinxx/gurobi.lic\n",
      "Academic license - for non-commercial use only - expires 2021-02-01\n"
     ]
    }
   ],
   "source": [
    "model = gp.Model('Tic_Tac_Toe')\n",
    "isX = model.addVars(size, size, size, vtype=GRB.BINARY, name=\"isX\")\n",
    "isLine = model.addVars(lines, vtype=GRB.BINARY, name=\"isLine\")"
   ]
  },
  {
   "cell_type": "markdown",
   "metadata": {},
   "source": [
    "现在我们创建约束。第一个状态是棋盘将包含14个 $X$（和13个 $O$）："
   ]
  },
  {
   "cell_type": "code",
   "execution_count": 4,
   "metadata": {},
   "outputs": [],
   "source": [
    "x14 = model.addConstr(isX.sum() == 14)"
   ]
  },
  {
   "cell_type": "markdown",
   "metadata": {},
   "source": [
    "其余的约束建立了 $isLine[]$ 和 $isX[]$ 变量之间的关系。如果所有三个单元格都包含相同的棋子，则该行是完整的。在我们的模型中，这将对应于三个相关的  $isX[]$ 变量，其总和为3（所有 $X$ ）或0（所有 $O$ ）。就我们的目的而言，足以执行以下条件：如果 $isLine = 0 $，则总和必须严格在这两个值之间。\n"
   ]
  },
  {
   "cell_type": "code",
   "execution_count": 5,
   "metadata": {},
   "outputs": [],
   "source": [
    "for line in lines:\n",
    "    model.addGenConstrIndicator(isLine[line], False, isX[line[0]] + isX[line[1]] + isX[line[2]] >= 1)\n",
    "    model.addGenConstrIndicator(isLine[line], False, isX[line[0]] + isX[line[1]] + isX[line[2]] <= 2)"
   ]
  },
  {
   "cell_type": "markdown",
   "metadata": {},
   "source": [
    "最后，我们设定了优化目标，这是尽量减少线的数量。"
   ]
  },
  {
   "cell_type": "code",
   "execution_count": 6,
   "metadata": {},
   "outputs": [],
   "source": [
    "model.setObjective(isLine.sum())"
   ]
  },
  {
   "cell_type": "markdown",
   "metadata": {},
   "source": [
    "现在我们执行优化。"
   ]
  },
  {
   "cell_type": "code",
   "execution_count": 7,
   "metadata": {},
   "outputs": [
    {
     "name": "stdout",
     "output_type": "stream",
     "text": [
      "Gurobi Optimizer version 9.1.0 build v9.1.0rc0 (mac64)\n",
      "Thread count: 6 physical cores, 12 logical processors, using up to 12 threads\n",
      "Optimize a model with 1 rows, 76 columns and 27 nonzeros\n",
      "Model fingerprint: 0xcbf7569f\n",
      "Model has 98 general constraints\n",
      "Variable types: 0 continuous, 76 integer (76 binary)\n",
      "Coefficient statistics:\n",
      "  Matrix range     [1e+00, 1e+00]\n",
      "  Objective range  [1e+00, 1e+00]\n",
      "  Bounds range     [1e+00, 1e+00]\n",
      "  RHS range        [1e+01, 1e+01]\n",
      "Presolve added 98 rows and 0 columns\n",
      "Presolve time: 0.00s\n",
      "Presolved: 99 rows, 76 columns, 419 nonzeros\n",
      "Variable types: 0 continuous, 76 integer (76 binary)\n",
      "Found heuristic solution: objective 7.0000000\n",
      "\n",
      "Root relaxation: objective 0.000000e+00, 46 iterations, 0.00 seconds\n",
      "\n",
      "    Nodes    |    Current Node    |     Objective Bounds      |     Work\n",
      " Expl Unexpl |  Obj  Depth IntInf | Incumbent    BestBd   Gap | It/Node Time\n",
      "\n",
      "     0     0    0.00000    0    8    7.00000    0.00000   100%     -    0s\n",
      "H    0     0                       5.0000000    0.00000   100%     -    0s\n",
      "     0     0    0.00000    0   18    5.00000    0.00000   100%     -    0s\n",
      "H    0     0                       4.0000000    0.00000   100%     -    0s\n",
      "     0     0    0.00000    0   19    4.00000    0.00000   100%     -    0s\n",
      "     0     0    0.00000    0    8    4.00000    0.00000   100%     -    0s\n",
      "     0     0    0.50000    0   22    4.00000    0.50000  87.5%     -    0s\n",
      "     0     0    0.50000    0    8    4.00000    0.50000  87.5%     -    0s\n",
      "     0     2    0.50000    0    8    4.00000    0.50000  87.5%     -    0s\n",
      "\n",
      "Cutting planes:\n",
      "  Zero half: 3\n",
      "\n",
      "Explored 1939 nodes (12811 simplex iterations) in 0.15 seconds\n",
      "Thread count was 12 (of 12 available processors)\n",
      "\n",
      "Solution count 3: 4 5 7 \n",
      "\n",
      "Optimal solution found (tolerance 1.00e-04)\n",
      "Best objective 4.000000000000e+00, best bound 4.000000000000e+00, gap 0.0000%\n"
     ]
    }
   ],
   "source": [
    "model.optimize()"
   ]
  },
  {
   "cell_type": "markdown",
   "metadata": {},
   "source": [
    "---\n",
    "## 结果\n",
    "\n",
    "最佳解决方案仅完成4条线或对角线。我们可以使用 `matplotlib` 可视化结果（已除去 3D 井字棋的三维尺寸）。"
   ]
  },
  {
   "cell_type": "code",
   "execution_count": 8,
   "metadata": {},
   "outputs": [
    {
     "data": {
      "image/png": "[encoded data removed]",
      "text/plain": [
       "<Figure size 720x360 with 3 Axes>"
      ]
     },
     "metadata": {},
     "output_type": "display_data"
    }
   ],
   "source": [
    "import matplotlib.pyplot as plt\n",
    "%matplotlib inline\n",
    "\n",
    "fig, ax = plt.subplots(1, 3, figsize=(10,5))\n",
    "for i in range(3):\n",
    "    ax[i].grid()\n",
    "    ax[i].set_xticks(range(4))\n",
    "    ax[i].set_yticks(range(4))\n",
    "    ax[i].tick_params(labelleft=False, labelbottom=False)\n",
    "    \n",
    "for cell in isX.keys():\n",
    "    if isX[cell].x > 0.5:\n",
    "        ax[cell[0]].add_patch(plt.Rectangle((cell[1],cell[2]), 1, 1))\n",
    "\n",
    "plt.show()"
   ]
  },
  {
   "cell_type": "markdown",
   "metadata": {},
   "source": [
    "---\n",
    "## 参考资料\n",
    "\n",
    "H. Paul Williams, Model Building in Mathematical Programming, fifth edition.\n",
    "\n",
    "Copyright © 2020 Gurobi Optimization, LLC\n",
    "\n",
    "翻译 By Arvin Xu"
   ]
  },
  {
   "cell_type": "code",
   "execution_count": null,
   "metadata": {},
   "outputs": [],
   "source": []
  }
 ],
 "metadata": {
  "kernelspec": {
   "display_name": "Python 3",
   "language": "python",
   "name": "python3"
  },
  "language_info": {
   "codemirror_mode": {
    "name": "ipython",
    "version": 3
   },
   "file_extension": ".py",
   "mimetype": "text/x-python",
   "name": "python",
   "nbconvert_exporter": "python",
   "pygments_lexer": "ipython3",
   "version": "3.8.0"
  }
 },
 "nbformat": 4,
 "nbformat_minor": 2
}