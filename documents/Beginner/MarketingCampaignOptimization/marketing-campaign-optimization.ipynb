{
 "cells": [
  {
   "cell_type": "markdown",
   "metadata": {},
   "source": [
    "# 营销活动优化\n"
   ]
  },
  {
   "cell_type": "markdown",
   "metadata": {},
   "source": [
    "## 目的和先决条件\n",
    "\n",
    "此 Jupyter Notebook 描述了银行和金融服务行业常见的营销活动优化问题。该问题使用 Gurobi Python API 构建，并使用 Gurobi Optimizer 解决。\n",
    "\n",
    "在这个营销活动问题中，数学优化模型的关键参数是通过机器学习预测响应模型预估出来的。营销活动优化问题是指在满足各种业务约束的情况下，为使总预期利润最大化而向每个客户提供何种产品。\n",
    "\n",
    "该建模示例处于初级阶段，我们假设你了解Python，并且具有一些有关构建数学优化模型的知识。希望你可以从示例中了解所有遗漏的概念。\n",
    "\n",
    "**注意：** 你可以通过单击 [此处](https://github.com/arvinxx/gurobi-and-mathematical-modeling/archive/master.zip) 下载包含此示例和其他示例的代码。为了正确运行此 Jupyter Notebook，你必须具有 Gurobi 许可证。如果你没有，则可以**商业用户身份**申请 [试用许可证](https://www.gurobi.com/downloads/request-an-evaluation-license/)，或以**学术用户身份**下载 [免费许可证](https://www.gurobi.com/academia/academic-program-and-licenses)。"
   ]
  },
  {
   "cell_type": "markdown",
   "metadata": {},
   "source": [
    "## 动机\n",
    "\n",
    "银行和金融服务行业营销的主要目标是“在正确的时间向正确的客户提供正确的产品”。然而，实际上能够实现这一目标是一项复杂且具有挑战性的任务。让这变得特别困难的是，公司拥有多种产品，并在一组复杂的业务约束下运作。为了最大化市场投资回报和满足业务约束，选择向哪些客户提供哪些产品是非常复杂的。\n",
    "\n",
    "假设有一家大型银行，该银行已努力成为一家以客户为中心的机构，而不是一家垂直产品驱动型公司。该银行的目标是“通过提供满足客户独特需求的解决方案，尽最大可能帮助他们在经济上有所改善”。此目标的直接结果是，营销活动是多个产品活动，而不是单个产品活动。\n",
    "\n",
    "这将数据科学和营销活动的定位过程从相当简单的单个响应模型变为一个相当复杂的过程，包括选择哪个产品通过哪个渠道提供给哪个客户。\n",
    "\n",
    "\n",
    "银行的营销团队习惯于将业务规则直接应用于目标客户。例如，他们仅根据产品差距或营销人员的业务直觉来瞄准客户。该银行的营销人员还应用了RFM类型分析，使用一般近因、频率、货币度量以及产品缺口来针对特定的目标客户。\n",
    "\n",
    "营销团队目前广泛使用的方法是依赖预测响应模型来锁定客户。这些模型估计客户响应特定报价的可能性，并且可以显着提高对产品报价的响应率。然而，当一家公司有好几种产品要推销，在营销计划中要考虑其他业务约束时，仅仅知道客户对特定报价做出响应概率是不够的。\n",
    "\n",
    "一般来说，营销团队还面临一个问题，就是要知道该向客户提供哪种产品，而不仅仅是该向哪个客户提供产品。在实践中，使用了许多特殊规则:\n",
    "\n",
    "* 基于响应率或估计预期盈利能力指标的优先级规则\n",
    "\n",
    "* 对可以销售的产品进行优先级排序的业务规则\n",
    "\n",
    "* 为特定活动选择客户的产品响应模型。\n",
    "\n",
    "有一种方法很容易实现，但可能不能产生最佳的客户联系方案，它依赖于预期报价获利能力的指标，以选择向客户提供哪些产品。然而，这种方法的一个缺点是它不能有效地处理客户联系方案上的复杂约束。\n",
    "\n",
    "为了解决这个营销活动优化问题，M.D.Cohen[1] 提出了一种基于丰业银行数据的MIP方法。营销活动优化问题考虑了11种独特的报价：5种投资、3种贷款和3种日常银行报价。投资优惠包括担保投资证书（GICs）、共同基金、注册教育储蓄计划（RESP）和两个独特的折扣经纪服务。贷款优惠包括一项抵押贷款和两项信用卡贷款。\n",
    "\n",
    "日常银行服务包括两项 Scotia 网上银行服务中的一项和存款账户获取服务。在这里，“活动”一词指的是一个大型的、积极主动的客户联系活动，包括11个不同的优惠;它可以被认为是十一个单一的产品活动，通常是在同一时间提供给一个不重叠的客户群。该活动的潜在目标市场包括大约250万客户。\n",
    "\n",
    "在此Jupyter Notebook中，我们将使用此MIP方法来解决银行的营销活动优化问题。应该注意的是，几乎所有行业的任何公司都可以使用这种方法在其业务限制优化营销活动方案。"
   ]
  },
  {
   "cell_type": "markdown",
   "metadata": {},
   "source": [
    "## 问题描述\n",
    "\n",
    "银行的营销团队需要确定向每个客户提供什么样的产品，以使营销活动的投资回报最大化，同时考虑以下限制因素：\n",
    "\n",
    "* 活动可用资金的限制。\n",
    "\n",
    "* 活动中可以提供的最低产品数量的限制。\n",
    "\n",
    "* 活动必须满足的投资回报率最低要求。"
   ]
  },
  {
   "cell_type": "markdown",
   "metadata": {},
   "source": [
    "## 解决方法\n",
    "\n",
    "\n",
    "数学优化（也称为数学编程）是一种声明性方法，其中建模者制定了一个优化问题，该问题捕获了复杂决策问题的关键特征。然后 Gurobi 使用最先进的数学和计算机科学技术来解决这一类数学优化问题。\n",
    "\n",
    "\n",
    "数学优化模型具有五个组成部分：\n",
    "\n",
    "* 数据集（Sets）\n",
    "* 参数(Parameters)\n",
    "* 决策变量(Decision variables)\n",
    "* 约束（Constraints）\n",
    "* 目标函数（Objective function(s)）\n",
    "\n",
    "\n",
    "现在，我们针对此营销活动优化问题提出一种MIP方法。\n",
    "\n",
    "Cohen[1]提出的MIP解决方案方法是对传统的短视方法（myopic approach）的改进，即选择对特定产品具有最大预期价值的客户，因为它从银行的角度产生了一个全局最优的解决方案，并允许有效地构建有关客户和业务部门的业务约束。这种方法可以考虑到有限的资源和其他业务限制。\n",
    "\n",
    "我们假设对客户/要约的预期增量利润，成本和业务约束的估计可以用作营销活动优化方法的输入。优化阶段与这些输入的构造无关。\n",
    "\n",
    "MIP方法涉及一个策略和操作问题。\n",
    "\n",
    "对于策略问题，我们根据单个预期利润参数汇总客户。可以使用诸如预测响应模型之类的数据科学技术来确定估计的个人预期利润。关键思想是对估计的单个预期利润进行聚类，然后将聚类质心视为代表单个聚类中所有单个客户的数据的代表。这种聚合使问题可以表述为线性规划问题，因此该模型无需为单个客户分配报价，而是在考虑业务约束的同时，为每个产品报价在每个集群中确定要最大化营销活动投资回报率的比例。通常，集群中的客户数量将成千上万，这是策略问题的主要决策变量，因此，这些变量可以视为连续变量；因此，线性规划方法是合理的。\n",
    "\n",
    "操作问题可以表述为MIP模型，其中估计的个人预期利润和战术模型的输出可以用作输入，以将*产品报价* 分配给每个集群的单个客户，从而使整个营销活动投资回报最大化。"
   ]
  },
  {
   "cell_type": "markdown",
   "metadata": {},
   "source": [
    "## 策略模型制定\n",
    "\n",
    "\n",
    "### 集合与索引\n",
    "\n",
    "$k \\in K$: 类的索引和集合。\n",
    "\n",
    "$j \\in J$: 产品的索引和集合。\n",
    "\n",
    "### 参数\n",
    "$\\pi_{k,j}$: 将产品 $j \\in J$ 提供给类 $k \\in K$ 的客户时所获得的平均期望利润。\n",
    "\n",
    "$\\nu_{k,j}$: 将产品 $j \\in J$ 提供给类 $k \\in K$ 的客户时平均可变成本。\n",
    "  \n",
    "$N_{k}$: 类 $k \\in K$ 中包含的客户数量。\n",
    "\n",
    "$Q_{j}$: 产品 $j \\in J$ 的最低要约数量。 \n",
    "\n",
    "$R$: 企业最低回报率。此最低回报率用于计算营销活动的投资回报率。\n",
    "\n",
    "$B$: 营销活动预算。\n",
    "\n",
    "\n",
    "$M$: Big M 惩罚。此惩罚与预算修正相关，预算修正是满足其他业务限制所必需的。 \n",
    "\n",
    "### 决策变量\n",
    "$y_{k,j} \\geq 0$: 类 $k \\in K$  中的客户接受产品 $j \\in J$ 要约的客户数量。\n",
    "\n",
    "$z \\geq 0$: 增加预算，以便有一个可行的营销活动。\n",
    "\n",
    "### 目标函数\n",
    "\n",
    "- **总利润**： 最大限度地提高营销活动的预期总利润，并对任何对预算的调整进行严厉惩罚。\n",
    "\n",
    "\\begin{equation}\n",
    "\\text{Max} \\quad Z = \\sum_{k \\in K} \\sum_{j \\in J} \\pi_{k,j} \\cdot y_{k,j} - M \\cdot z\n",
    "\\tag{0}\n",
    "\\end{equation}\n",
    "\n",
    "### 约束条件\n",
    "\n",
    "- **要约数量**： 每个集群中产品的最大要约数量受集群中客户数量的限制。\n",
    "\n",
    "\\begin{equation}\n",
    "\\sum_{j \\in J} y_{k,j} \\leq N_{k} \\quad \\forall k \\in K\n",
    "\\tag{1}\n",
    "\\end{equation}\n",
    "\n",
    "- **预算**： 营销活动预算约束要求活动的总成本应该低于活动预算。有可能需要增加预算以确保模型的可行性。因为为了使所有产品达到最低要约数量，可能需要增加预算。\n",
    "\n",
    "\\begin{equation}\n",
    "\\sum_{k \\in K} \\sum_{j \\in J} \\nu_{k,j} \\cdot y_{k,j} \\leq B + z\n",
    "\\tag{2}\n",
    "\\end{equation}\n",
    "\n",
    "- **要约限制**： 每个产品的最低要约数量。\n",
    "\n",
    "\\begin{equation}\n",
    "\\sum_{k \\in K} y_{k,j} \\geq Q_{j}  \\quad \\forall j \\in J\n",
    "\\tag{3}\n",
    "\\end{equation}\n",
    "\n",
    "- **ROI**： 最小 ROI 约束可确保总利润与成本的比率至少为 1 + 企业的最低预期回报率。\n",
    "\n",
    "\\begin{equation}\n",
    "\\sum_{k \\in K} \\sum_{j \\in J} \\pi_{k,j} \\cdot y_{k,j} \\geq (1+R) \\cdot \\sum_{k \\in K} \\sum_{j \\in J} \\nu_{k,j} \\cdot y_{k,j}\n",
    "\\tag{4}\n",
    "\\end{equation}\n"
   ]
  },
  {
   "cell_type": "markdown",
   "metadata": {},
   "source": [
    "## 操作模型制定\n",
    "\n",
    "一旦找到了策略模型中所有 $j \\in J$ 和 $k \\in K$ 的最优值 $y_{k,j}$ ，我们就需要确定集群 $k$ 中的哪个个体客户得到哪个产品的要约。假设给定集群 $k \\in K$ 中，产品 $j_1$ 和 $j_2$ 的要约分配为正，即 $y_{k,j_1} > 0$ 和$y_{k,j_2} > 0$。那么，集群 $k$ 中的顾客 $y_{k,j_1}$ 和 $y_{k,j_2}$ 必须分别是产品 $j_1 $和 $j_2$ 的要约。要做到这一点，最优的方法是使用单个客户的预期利润来解决分配问题，而不是使用集群的预期利润。\n",
    "\n",
    "我们现在提供操作问题的表述。\n",
    "\n",
    "\n",
    "### 集合与索引\n",
    "$i \\in I^{k}$: 集群 $k \\in K$ 中客户的索引和集合。\n",
    "\n",
    "$j \\in J^{k}$: 集群 $k \\in K$ 中提供给客户的产品索引和子集，其中 $J^{k} = \\{ j \\in J: y_{k,j} > 0 \\}$ .\n",
    "\n",
    "### 参数\n",
    "\n",
    "$r_{k,i,j}$: 从客户 $i \\in I^{k}$ 的产品要约 $j \\in J^{k}$ 的预期个人利润。 \n",
    "\n",
    "$Y_{k,j} = \\lfloor y_{k,j} \\rfloor $: 在集群 $k$ 中产品 $j \\in J^{k}$ 提供要约的客户数量\n",
    ".\n",
    "\n",
    "### 决策变量\n",
    "$x_{k,i,j} \\in \\{0,1 \\}$: 如果产品 $j \\in J^{k}$  给客户 $i \\in I^{k}$ 提供了要约，此变量等于1, 否则为 0。\n",
    "\n",
    "\n",
    "\n",
    "### 目标函数\n",
    "- **总利润**： 最大化总个人利润。\n",
    "\n",
    "\n",
    "\\begin{equation}\n",
    "\\text{Max} \\quad Z = \\sum_{k \\in K} \\sum_{i \\in I^{k}} \\sum_{j \\in J^{k}} r_{k,i,j} \\cdot x_{k,i,j}\n",
    "\\tag{0}\n",
    "\\end{equation}\n",
    "\n",
    "\n",
    "### 约束\n",
    "\n",
    "- **产品要约**： 将产品的要约分配给每个集群的客户。\n",
    "\n",
    "\\begin{equation}\n",
    "\\sum_{i \\in  I^{k}}  x_{k,i,j} = Y_{k,j}  \\quad \\forall j \\in J^{k}, k \\in K\n",
    "\\tag{1}\n",
    "\\end{equation}\n",
    "\n",
    "\n",
    "- **要约限制**： 最多可以向集群的一个客户提供一个产品。\n",
    "\n",
    "\n",
    "\\begin{equation}\n",
    "\\sum_{j \\in J^{k}} x_{k,i,j} \\leq 1 \\quad \\forall i \\in I^{k}, k \\in K\n",
    "\\tag{2}\n",
    "\\end{equation}\n",
    "\n",
    "- **布尔限制**： 是否向集群 $k$ 的客户提供产品要约。\n",
    "\n",
    "\n",
    "\\begin{equation}\n",
    "x_{k,i,j} \\in \\{0,1 \\} \\quad \\forall i \\in I^{k},  j \\in J^{k}, k \\in K\n",
    "\\tag{3}\n",
    "\\end{equation}\n"
   ]
  },
  {
   "cell_type": "markdown",
   "metadata": {},
   "source": [
    "## 问题实例\n",
    "\n",
    "我们考虑两个产品、十个客户和两个客户群。公司的最低回报率预期是百分之二十。\n",
    "\n",
    "### 策略问题数据\n",
    "\n",
    "下表定义了提供产品时每个集群中平均客户的预期利润。\n",
    "\n",
    "| <i></i> | Product 1 | Product 2 |\n",
    "| --- | --- |  --- |\n",
    "| cluster 1 | $\\$2,000$ | $\\$1,000$ |\n",
    "| cluster 2 | $\\$3,000$ | $\\$2,000$ |\n",
    "\n",
    "下表确定了向集群中的普通客户提供产品的预期成本。\n",
    "\n",
    "| <i></i> | Product 1 | Product 2 |\n",
    "| --- | --- |  --- |\n",
    "| cluster 1 | $\\$200$ | $\\$100$ |\n",
    "| cluster 2 | $\\$300$ | $\\$200$ |\n",
    "\n",
    "这个营销活动的预算是$\\$200$。\n",
    "\n",
    "下表给出了每个集群中的客户数量。\n",
    "\n",
    "| <i></i> | Num. Customers | \n",
    "| --- | --- |\n",
    "| cluster 1 | 5 |\n",
    "| cluster 2 | 5 | \n",
    "\n",
    "下表列出每种产品的最低要约数量。\n",
    "\n",
    "| <i></i> | Min Offers | \n",
    "| --- | --- |\n",
    "| product 1 | 2 |\n",
    "| product 2 | 2 | \n",
    "\n",
    "### 操作问题数据\n",
    "\n",
    "下表显示了向每个集群中每个客户提供产品的预期利润。\n",
    "\n",
    "| <i></i> | Product 1 | Product 2 |\n",
    "| --- | --- |  --- |\n",
    "| cluster 1, customer 1 | $\\$2,050$ | $\\$1,050$ |\n",
    "| cluster 1, customer 2 | $\\$1,950$ | $\\$950$ |\n",
    "| cluster 1, customer 3 | $\\$2,000$ | $\\$1,000$ |\n",
    "| cluster 1, customer 4 | $\\$2,100$ | $\\$1,100$ |\n",
    "| cluster 1, customer 5 | $\\$1,900$ | $\\$900$ |\n",
    "| cluster 2, customer 6 | $\\$3,000$ | $\\$2,000$ |\n",
    "| cluster 2, customer 7 | $\\$2,900$ | $\\$1,900$ |\n",
    "| cluster 2, customer 8 | $\\$3,050$ | $\\$2,050$ |\n",
    "| cluster 2, customer 9 | $\\$3,100$ | $\\$2,100$ |\n",
    "| cluster 2, customer 10 | $\\$2,950$ | $\\$1,950$ |\n",
    "\n",
    "下表显示了向集群中的客户提供产品的成本。\n",
    "\n",
    "| <i></i> | Product 1 | Product 2 |\n",
    "| --- | --- |  --- |\n",
    "| cluster 1, customer 1 | $\\$205$ | $\\$105$ |\n",
    "| cluster 1, customer 2 | $\\$195$ | $\\$95$ |\n",
    "| cluster 1, customer 3 | $\\$200$ | $\\$100$ |\n",
    "| cluster 1, customer 4 | $\\$210$ | $\\$110$ |\n",
    "| cluster 1, customer 5 | $\\$190$ | $\\$90$ |\n",
    "| cluster 2, customer 6 | $\\$300$ | $\\$200$ |\n",
    "| cluster 2, customer 7 | $\\$290$ | $\\$190$ |\n",
    "| cluster 2, customer 8 | $\\$305$ | $\\$205$ |\n",
    "| cluster 2, customer 9 | $\\$310$ | $\\$210$ |\n",
    "| cluster 2, customer 10 | $\\$295$ | $\\$195$ |"
   ]
  },
  {
   "cell_type": "markdown",
   "metadata": {},
   "source": [
    "## Python 实现\n",
    "\n",
    "我们现在导入Gurobi Python模块。然后用给定的数据初始化数据结构。"
   ]
  },
  {
   "cell_type": "code",
   "execution_count": 1,
   "metadata": {},
   "outputs": [],
   "source": [
    "import gurobipy as gp\n",
    "from gurobipy import GRB\n",
    "\n",
    "# 官方测试版本 Gurobi v9.0.0 & Python 3.7.0\n",
    "\n",
    "# 译者测试版本 Gurobi v9.1.0 & Python 3.8.6\n",
    "\n",
    "### 集合\n",
    "\n",
    "products = ['p1', 'p2']\n",
    "clusters = ['k1', 'k2']"
   ]
  },
  {
   "cell_type": "markdown",
   "metadata": {},
   "source": [
    "### 预期利润\n",
    "\n",
    "下表显示了每个集群中提供要约的客户的预期利润。\n",
    "\n",
    "| <i></i> | Product 1 | Product 2 |\n",
    "| --- | --- |  --- |\n",
    "| cluster 1 | $\\$2,000$ | $\\$1,000$ |\n",
    "| cluster 2 | $\\$3,000$ | $\\$2,000$ |"
   ]
  },
  {
   "cell_type": "code",
   "execution_count": 2,
   "metadata": {},
   "outputs": [],
   "source": [
    "### 参数\n",
    "\n",
    "# 预期利润\n",
    "cp, expected_profit = gp.multidict({\n",
    "    ('k1', 'p1'): 2000,\n",
    "    ('k1', 'p2'): 1000,\n",
    "    ('k2', 'p1'): 3000,\n",
    "    ('k2', 'p2'): 2000\n",
    "})\n"
   ]
  },
  {
   "cell_type": "markdown",
   "metadata": {},
   "source": [
    "### 预期成本\n",
    "\n",
    "下表显示了向集群中的客户提供产品的预期成本。\n",
    "\n",
    "| <i></i> | Product 1 | Product 2 |\n",
    "| --- | --- |  --- |\n",
    "| cluster 1 | $\\$200$ | $\\$100$ |\n",
    "| cluster 2 | $\\$300$ | $\\$200$ |"
   ]
  },
  {
   "cell_type": "code",
   "execution_count": 3,
   "metadata": {},
   "outputs": [],
   "source": [
    "# 预期成本\n",
    "\n",
    "cp, expected_cost = gp.multidict({\n",
    "    ('k1', 'p1'): 200,\n",
    "    ('k1', 'p2'): 100,\n",
    "    ('k2', 'p1'): 300,\n",
    "    ('k2', 'p2'): 200\n",
    "})"
   ]
  },
  {
   "cell_type": "markdown",
   "metadata": {},
   "source": [
    "### 客户数量\n",
    "\n",
    "每个集群中的客户数量如下表所示。\n",
    "\n",
    "| <i></i> | Num. Customers | \n",
    "| --- | --- |\n",
    "| cluster 1 | 5 |\n",
    "| cluster 2 | 5 | "
   ]
  },
  {
   "cell_type": "code",
   "execution_count": 4,
   "metadata": {},
   "outputs": [],
   "source": [
    "# 每个集群中的客户数量\n",
    "\n",
    "clusters, number_customers = gp.multidict({\n",
    "    ('k1'): 5,\n",
    "    ('k2'): 5\n",
    "})"
   ]
  },
  {
   "cell_type": "markdown",
   "metadata": {},
   "source": [
    "### 最低要约\n",
    "\n",
    "下表列出每种产品的最低要约数量。\n",
    "\n",
    "| <i></i> | 最低要约 | \n",
    "| --- | --- |\n",
    "| product 1 | 2 |\n",
    "| product 2 | 2 | "
   ]
  },
  {
   "cell_type": "code",
   "execution_count": 31,
   "metadata": {},
   "outputs": [],
   "source": [
    "#每个产品的最低要约数量\n",
    "\n",
    "products, min_offers = gp.multidict({\n",
    "    ('p1'): 2,\n",
    "    ('p2'): 2\n",
    "})"
   ]
  },
  {
   "cell_type": "markdown",
   "metadata": {},
   "source": [
    "### 标量\n",
    "\n",
    "公司的最低回报率是百分之二十 ($R = 0.20$).\n",
    "\n",
    "可用于市场营销活动的预算是 $\\$200$.\n"
   ]
  },
  {
   "cell_type": "code",
   "execution_count": 6,
   "metadata": {},
   "outputs": [],
   "source": [
    "# 标量\n",
    "\n",
    "R = 0.20\n",
    "\n",
    "# 预算紧张\n",
    "budget = 200 "
   ]
  },
  {
   "cell_type": "markdown",
   "metadata": {},
   "source": [
    "## 策略模型制定\n",
    "\n",
    " \n",
    "\n",
    "### 决策变量\n",
    "$y_{k,j} \\geq 0$: 类 $k \\in K$  中的客户接受产品 $j \\in J$ 要约的客户数量。\n",
    "\n",
    "$z \\geq 0$: 增加预算，以便有一个可行的营销活动。\n"
   ]
  },
  {
   "cell_type": "code",
   "execution_count": 32,
   "metadata": {},
   "outputs": [],
   "source": [
    "# 声明并初始化模型\n",
    "mt = gp.Model('Tactical')\n",
    "\n",
    "### 决策变量\n",
    "\n",
    "# 集群式分配产品要约给客户。\n",
    "\n",
    "y = mt.addVars(cp, name=\"allocate\")\n",
    "\n",
    "# 修正预算\n",
    "\n",
    "z = mt.addVar(name=\"budget_correction\")"
   ]
  },
  {
   "cell_type": "markdown",
   "metadata": {},
   "source": [
    "### 约束\n",
    "\n",
    "\n",
    "- **要约数量**： 每个集群中产品的最大要约数量受集群中客户数量的限制。\n",
    "\n",
    "\\begin{equation}\n",
    "\\sum_{j \\in J} y_{k,j} \\leq N_{k} \\quad \\forall k \\in K\n",
    "\\tag{1}\n",
    "\\end{equation}\n",
    "\n",
    "\n",
    "Where\n",
    "\n",
    "$y_{k,j} \\geq 0$: Number of customers in cluster $k \\in K$ that are offered product $j \\in J$.\n",
    "\n",
    "$N_{k}$: Number of customers in cluster $k \\in K$."
   ]
  },
  {
   "cell_type": "code",
   "execution_count": 34,
   "metadata": {},
   "outputs": [],
   "source": [
    "### 约束\n",
    "\n",
    "# Constraint on number of offers at each cluster\n",
    "\n",
    "maxOffers_cons = mt.addConstrs((y.sum(k,'*') <= number_customers[k]  for k in clusters), name='maxOffers')\n"
   ]
  },
  {
   "cell_type": "markdown",
   "metadata": {},
   "source": [
    "### Constraints\n",
    "\n",
    "- **Budget**. The marketing campaign budget constraint enforces that the total cost of the campaign should be less than the budget campaign. There is the possibility of increasing the budget to ensure the feasibility of the model, the minimum number of offers for all the product may require this increase in the budget.\n",
    "\n",
    "\\begin{equation}\n",
    "\\sum_{k \\in K} \\sum_{j \\in J} \\nu_{k,j} \\cdot y_{k,j} \\leq B + z\n",
    "\\tag{2}\n",
    "\\end{equation}\n",
    "\n",
    "Where\n",
    "\n",
    "$y_{k,j} \\geq 0$: Number of customers in cluster $k \\in K$ that are offered product $j \\in J$.\n",
    "\n",
    "$z \\geq 0$: Increase in budget in order to have a feasible campaign.\n",
    "\n",
    "$\\nu_{k,j}$: Average variable cost associated with the offer of product  $j \\in J$ to an average customer of cluster $k \\in K$.\n",
    "\n",
    "$B$: Marketing campaign budget."
   ]
  },
  {
   "cell_type": "code",
   "execution_count": 35,
   "metadata": {},
   "outputs": [],
   "source": [
    "# Budget constraint\n",
    "\n",
    "budget_con = mt.addConstr((y.prod(expected_cost) - z <= budget), name='budget')\n"
   ]
  },
  {
   "cell_type": "markdown",
   "metadata": {},
   "source": [
    "### Constraints\n",
    "\n",
    "- **Offers limit**. Minimum number of offers of each product.\n",
    "\n",
    "\\begin{equation}\n",
    "\\sum_{k \\in K} y_{k,j} \\geq Q_{j}  \\quad \\forall j \\in J\n",
    "\\tag{3}\n",
    "\\end{equation}\n",
    "\n",
    "Where\n",
    "\n",
    "$y_{k,j} \\geq 0$: Number of customers in cluster $k \\in K$ that are offered product $j \\in J$.\n",
    "\n",
    "$Q_{j}$: Minimum number of offers of product $j \\in J$."
   ]
  },
  {
   "cell_type": "code",
   "execution_count": 36,
   "metadata": {},
   "outputs": [],
   "source": [
    "# Constraints on min number of offers of each product\n",
    "\n",
    "minOffers_cons = mt.addConstrs( (y.sum('*',j) >= min_offers[j] for j in products), name='min_offers')\n"
   ]
  },
  {
   "cell_type": "markdown",
   "metadata": {},
   "source": [
    "### Constraints\n",
    "\n",
    "\n",
    "- **ROI**. The minimum ROI constraint ensures that the ratio of total profits over cost is at least  one plus the corporate hurdle rate.\n",
    "\n",
    "\\begin{equation}\n",
    "\\sum_{k \\in K} \\sum_{j \\in J} \\pi_{k,j} \\cdot y_{k,j} \\geq (1+R) \\cdot \\sum_{k \\in K} \\sum_{j \\in J} \\nu_{k,j} \\cdot y_{k,j}\n",
    "\\tag{4}\n",
    "\\end{equation}\n",
    "\n",
    "Where\n",
    "\n",
    "$y_{k,j} \\geq 0$: Number of customers in cluster $k \\in K$ that are offered product $j \\in J$.\n",
    "\n",
    "$\\pi_{k,j}$: Expected profit to the bank from the offer of product $j \\in J$ to an average customer of cluster $k \\in K$.\n",
    "\n",
    "$\\nu_{k,j}$: Average variable cost associated with the offer of product  $j \\in J$ to an average customer of cluster $k \\in K$.\n",
    "\n",
    "$R$: Corporate hurdle rate."
   ]
  },
  {
   "cell_type": "code",
   "execution_count": 37,
   "metadata": {},
   "outputs": [],
   "source": [
    "# Constraint to ensure minimum ROI\n",
    "\n",
    "ROI_con = mt.addConstr((y.prod(expected_profit) - (1 + R)*y.prod(expected_cost) >= 0), name='ROI')"
   ]
  },
  {
   "cell_type": "markdown",
   "metadata": {},
   "source": [
    "### Objective Function\n",
    "- **Total profit**. Maximize total expected profit from marketing campaign and heavily penalize any correction to the budget.\n",
    "\n",
    "\\begin{equation}\n",
    "\\text{Max} \\quad Z = \\sum_{k \\in K} \\sum_{j \\in J} \\pi_{k,j} \\cdot y_{k,j} - M \\cdot z\n",
    "\\tag{0}\n",
    "\\end{equation}\n",
    "\n",
    "Where\n",
    "\n",
    "$y_{k,j} \\geq 0$: Number of customers in cluster $k \\in K$ that are offered product $j \\in J$.\n",
    "\n",
    "$z \\geq 0$: Increase in budget in order to have a feasible campaign.\n",
    "\n",
    "$\\pi_{k,j}$: Expected profit to the bank from the offer of product $j \\in J$ to an average customer of cluster $k \\in K$.\n",
    "\n",
    "**Note:** The value of $M$ should be higher than any of the expected profits to ensure that the budget is increased only when the model is infeasible if this parameter is not increased."
   ]
  },
  {
   "cell_type": "code",
   "execution_count": 38,
   "metadata": {},
   "outputs": [],
   "source": [
    "### Objective function\n",
    "\n",
    "# Maximize total expected profit\n",
    "\n",
    "M = 10000\n",
    "\n",
    "mt.setObjective(y.prod(expected_profit) -M*z, GRB.MAXIMIZE)"
   ]
  },
  {
   "cell_type": "code",
   "execution_count": 39,
   "metadata": {},
   "outputs": [
    {
     "name": "stdout",
     "output_type": "stream",
     "text": [
      "Warning: linear constraint 0 and linear constraint 2 have the same name \"maxOffers[k1]\"\n"
     ]
    }
   ],
   "source": [
    "# Verify model formulation\n",
    "\n",
    "mt.write('tactical.lp')"
   ]
  },
  {
   "cell_type": "code",
   "execution_count": 40,
   "metadata": {},
   "outputs": [
    {
     "name": "stdout",
     "output_type": "stream",
     "text": [
      "Gurobi Optimizer version 9.1.0 build v9.1.0rc0 (mac64)\n",
      "Thread count: 6 physical cores, 12 logical processors, using up to 12 threads\n",
      "Optimize a model with 8 rows, 5 columns and 21 nonzeros\n",
      "Model fingerprint: 0x1bbca55e\n",
      "Coefficient statistics:\n",
      "  Matrix range     [1e+00, 3e+03]\n",
      "  Objective range  [1e+03, 1e+04]\n",
      "  Bounds range     [0e+00, 0e+00]\n",
      "  RHS range        [2e+00, 2e+02]\n",
      "Presolve removed 3 rows and 0 columns\n",
      "Presolve time: 0.01s\n",
      "Presolved: 5 rows, 5 columns, 13 nonzeros\n",
      "\n",
      "Iteration    Objective       Primal Inf.    Dual Inf.      Time\n",
      "       0    2.5000000e+04   8.787500e+01   0.000000e+00      0s\n",
      "       4   -3.9940000e+06   0.000000e+00   0.000000e+00      0s\n",
      "\n",
      "Solved in 4 iterations and 0.01 seconds\n",
      "Optimal objective -3.994000000e+06\n"
     ]
    }
   ],
   "source": [
    "# Run optimization engine\n",
    "\n",
    "mt.optimize()"
   ]
  },
  {
   "cell_type": "code",
   "execution_count": 41,
   "metadata": {},
   "outputs": [
    {
     "name": "stdout",
     "output_type": "stream",
     "text": [
      "\n",
      "Optimal allocation of product offers to clusters.\n",
      "___________________________________________________\n",
      "The number of customers in cluster k1 that gets an offer of product p1 is: 2.0\n",
      "The number of customers in cluster k1 that gets an offer of product p2 is: 2.0\n",
      "\n",
      "The increase correction in the campaign budget is $400.00.\n",
      "\n",
      "Financial reports.\n",
      "___________________________________________________\n",
      "Optimal total expected profit is $6,000.00.\n",
      "Optimal total expected cost is $600.00 with a budget of $200.00 and an extra amount of $400.00.\n",
      "Optimal ROI is 1000.0% with a minimum ROI of  120.0%.\n"
     ]
    }
   ],
   "source": [
    "### Output Reports\n",
    "\n",
    "# Optimal allocation of product offers to clusters\n",
    "\n",
    "total_expected_profit = 0\n",
    "total_expected_cost = 0\n",
    "\n",
    "print(\"\\nOptimal allocation of product offers to clusters.\")\n",
    "print(\"___________________________________________________\")\n",
    "for k,p in cp:\n",
    "    if y[k,p].x > 1e-6:\n",
    "        #print(y[k,p].varName, y[k,p].x)\n",
    "        print(f\"The number of customers in cluster {k} that gets an offer of product {p} is: {y[k,p].x}\")\n",
    "        total_expected_profit += expected_profit[k,p]*y[k,p].x\n",
    "        total_expected_cost += expected_cost[k,p]*y[k,p].x\n",
    "\n",
    "increased_budget = '${:,.2f}'.format(z.x)\n",
    "print(f\"\\nThe increase correction in the campaign budget is {increased_budget}.\")\n",
    "\n",
    "# Financial reports\n",
    "\n",
    "optimal_ROI = round(100*total_expected_profit/total_expected_cost,2)\n",
    "min_ROI = round(100*(1+R),2)\n",
    "\n",
    "money_expected_profit = '${:,.2f}'.format(total_expected_profit)\n",
    "money_expected_cost = '${:,.2f}'.format(total_expected_cost)\n",
    "money_budget = '${:,.2f}'.format(budget)\n",
    "\n",
    "print(f\"\\nFinancial reports.\")\n",
    "print(\"___________________________________________________\")\n",
    "print(f\"Optimal total expected profit is {money_expected_profit}.\")\n",
    "print(f\"Optimal total expected cost is {money_expected_cost} with a budget of {money_budget} and an extra amount of {increased_budget}.\")\n",
    "print(f\"Optimal ROI is {optimal_ROI}% with a minimum ROI of  {min_ROI}%.\")"
   ]
  },
  {
   "cell_type": "markdown",
   "metadata": {},
   "source": [
    "## Analysis\n",
    "\n",
    "The cost of allocating products to clusters required an increase in the budget of $\\$400$. The total expected profit is \n",
    "$\\$6,000$. The total expected cost is $\\$600$ which is equal to the original budget of $\\$200$ plus the increase of $\\$400$. The expected ROI is 1,000 % which is much higher than the minimum ROI required."
   ]
  },
  {
   "cell_type": "markdown",
   "metadata": {},
   "source": [
    "## Operational Model Formulation\n",
    "\n",
    "### Customer expected profit"
   ]
  },
  {
   "cell_type": "code",
   "execution_count": 42,
   "metadata": {},
   "outputs": [],
   "source": [
    "### Sets\n",
    "\n",
    "customers = ['c1', 'c2','c3','c4','c5','c6','c7','c8','c9','c10']\n",
    "\n",
    "### Parameters\n",
    "\n",
    "# Expected profit from a product offering for each customer in each cluster\n",
    "ccp, customer_profit = gp.multidict({\n",
    "    ('k1', 'c1', 'p1'): 2050,\n",
    "    ('k1', 'c1', 'p2'): 1050,\n",
    "    ('k1', 'c2', 'p1'): 1950,\n",
    "    ('k1', 'c2', 'p2'): 950,\n",
    "    ('k1', 'c3', 'p1'): 2000,\n",
    "    ('k1', 'c3', 'p2'): 1000,\n",
    "    ('k1', 'c4', 'p1'): 2100,\n",
    "    ('k1', 'c4', 'p2'): 1100,\n",
    "    ('k1', 'c5', 'p1'): 1900,\n",
    "    ('k1', 'c5', 'p2'): 900,\n",
    "    ('k2', 'c6', 'p1'): 3000,\n",
    "    ('k2', 'c6', 'p2'): 2000,\n",
    "    ('k2', 'c7', 'p1'): 2900,\n",
    "    ('k2', 'c7', 'p2'): 1900,\n",
    "    ('k2', 'c8', 'p1'): 3050,\n",
    "    ('k2', 'c8','p2'): 2050,\n",
    "    ('k2', 'c9', 'p1'): 3100,\n",
    "    ('k2', 'c9', 'p2'): 3100,\n",
    "    ('k2', 'c10', 'p1'): 2950,\n",
    "    ('k2', 'c10', 'p2'): 2950   \n",
    "})"
   ]
  },
  {
   "cell_type": "markdown",
   "metadata": {},
   "source": [
    "### Customer offering cost"
   ]
  },
  {
   "cell_type": "code",
   "execution_count": 43,
   "metadata": {},
   "outputs": [],
   "source": [
    "# Customer cost of offering a product at a cluster\n",
    "\n",
    "ccp, customer_cost = gp.multidict({\n",
    "    ('k1', 'c1', 'p1'): 205,\n",
    "    ('k1', 'c1', 'p2'): 105,\n",
    "    ('k1', 'c2', 'p1'): 195,\n",
    "    ('k1', 'c2', 'p2'): 95,\n",
    "    ('k1', 'c3', 'p1'): 200,\n",
    "    ('k1', 'c3', 'p2'): 100,\n",
    "    ('k1', 'c4', 'p1'): 210,\n",
    "    ('k1', 'c4', 'p2'): 110,\n",
    "    ('k1', 'c5', 'p1'): 190,\n",
    "    ('k1', 'c5', 'p2'): 90,\n",
    "    ('k2', 'c6', 'p1'): 300,\n",
    "    ('k2', 'c6', 'p2'): 200,\n",
    "    ('k2', 'c7', 'p1'): 290,\n",
    "    ('k2', 'c7', 'p2'): 190,\n",
    "    ('k2', 'c8', 'p1'): 305,\n",
    "    ('k2', 'c8','p2'): 205,\n",
    "    ('k2', 'c9', 'p1'): 310,\n",
    "    ('k2', 'c9', 'p2'): 310,\n",
    "    ('k2', 'c10', 'p1'): 295,\n",
    "    ('k2', 'c10', 'p2'): 295   \n",
    "})"
   ]
  },
  {
   "cell_type": "markdown",
   "metadata": {},
   "source": [
    "## Operational Model Formulation\n"
   ]
  },
  {
   "cell_type": "markdown",
   "metadata": {},
   "source": [
    "### Decision Variables\n",
    "$x_{k,i,j} \\in \\{0,1 \\}$: This variable is equal to 1, if product $j \\in J^{k}$  is offered to customer $i \\in I^{k}$, and 0 otherwise."
   ]
  },
  {
   "cell_type": "code",
   "execution_count": 44,
   "metadata": {},
   "outputs": [],
   "source": [
    "# Declare and initialize model\n",
    "mo = gp.Model('Operational')\n",
    "\n",
    "### Decision variables\n",
    "\n",
    "x = mo.addVars(ccp, vtype=GRB.BINARY, name=\"assign\")"
   ]
  },
  {
   "cell_type": "markdown",
   "metadata": {},
   "source": [
    "### Constraints\n",
    "\n",
    "- **Product offers**. Allocate offers of a product to customers of each cluster.\n",
    "\n",
    "\\begin{equation}\n",
    "\\sum_{i \\in  I^{k}}  x_{k,i,j} = Y_{k,j}  \\quad \\forall j \\in J^{k}, k \\in K\n",
    "\\tag{1}\n",
    "\\end{equation}\n",
    "\n",
    "Where\n",
    "\n",
    "$x_{k,i,j} \\in \\{0,1 \\}$: This variable is equal to 1, if product $j \\in J^{k}$  is offered to customer $i \\in I^{k}$, and 0 otherwise.\n",
    "\n",
    "$Y_{k,j} = \\lfloor y_{k,j} \\rfloor $: Number of customers in cluster k that will get an offer of product $j \\in J^{k}$.\n",
    "\n",
    "\n"
   ]
  },
  {
   "cell_type": "code",
   "execution_count": 45,
   "metadata": {},
   "outputs": [],
   "source": [
    "# Product offers constraint\n",
    "\n",
    "productOffers = {}\n",
    "\n",
    "for k in clusters:\n",
    "    for j in products:\n",
    "            productOffers[k,j] = mo.addConstr(gp.quicksum(x[k,i,j] for kk,i,jj in ccp if (kk ==k and jj == j)) == \n",
    "                                              int(y[k,j].x), name='prodOffers_' + str(k) + ',' + str(j) )"
   ]
  },
  {
   "cell_type": "markdown",
   "metadata": {},
   "source": [
    "\n",
    "### Constraints\n",
    "\n",
    "\n",
    "- **Offers limit**. At most one product may be offered to a customer of a cluster.\n",
    "\n",
    "\\begin{equation}\n",
    "\\sum_{j \\in J^{k}} x_{k,i,j} \\leq 1 \\quad \\forall i \\in I^{k}, k \\in K\n",
    "\\tag{2}\n",
    "\\end{equation}\n",
    "\n",
    "Where\n",
    "\n",
    "$x_{k,i,j} \\in \\{0,1 \\}$: This variable is equal to 1, if product $j \\in J^{k}$  is offered to customer $i \\in I^{k}$, and 0 otherwise."
   ]
  },
  {
   "cell_type": "code",
   "execution_count": 46,
   "metadata": {},
   "outputs": [],
   "source": [
    "# limit on the number of offers to each customer in a cluster.\n",
    "\n",
    "ki = [('k1', 'c1'), \n",
    "      ('k1', 'c2'), \n",
    "      ('k1', 'c3'),\n",
    "      ('k1', 'c4'), \n",
    "      ('k1', 'c5'), \n",
    "      ('k2', 'c6'), \n",
    "      ('k2', 'c7'), \n",
    "      ('k2', 'c8'), \n",
    "      ('k2', 'c9'), \n",
    "      ('k2', 'c10')]\n",
    "\n",
    "customerOffers = {}\n",
    "\n",
    "for k,i in ki:\n",
    "    customerOffers[k,i] = mo.addConstr(gp.quicksum(x[k,i,j] for kk,ii,j in ccp if (kk == k and ii == i) ) <= 1, \n",
    "                                          name ='custOffers_' + str(k) + ',' + str(i) )"
   ]
  },
  {
   "cell_type": "markdown",
   "metadata": {},
   "source": [
    "### Objective Function\n",
    "\n",
    "- **Total profit**. Maximize total individual expected profit.\n",
    "\n",
    "\\begin{equation}\n",
    "\\text{Max} \\quad Z = \\sum_{k \\in K}  \\sum_{i \\in I^{k}} \\sum_{j \\in J^{k}} r_{k,i,j} \\cdot x_{k,i,j}\n",
    "\\tag{0}\n",
    "\\end{equation}\n",
    "\n",
    "Where\n",
    "\n",
    "$x_{k,i,j} \\in \\{0,1 \\}$: This variable is equal to 1, if product $j \\in J^{k}$  is offered to customer $i \\in I^{k}$, and 0 otherwise.\n",
    "\n",
    "$r_{k,i,j}$: Expected individual profit of customer $i \\in I^{k}$ from  offer of product $j \\in J^{k}$. \n",
    "\n"
   ]
  },
  {
   "cell_type": "code",
   "execution_count": 47,
   "metadata": {},
   "outputs": [],
   "source": [
    "### Objective function\n",
    "\n",
    "# Maximoze total profit\n",
    "\n",
    "mo.setObjective(x.prod(customer_profit), GRB.MAXIMIZE)"
   ]
  },
  {
   "cell_type": "code",
   "execution_count": 48,
   "metadata": {},
   "outputs": [
    {
     "name": "stdout",
     "output_type": "stream",
     "text": [
      "Gurobi Optimizer version 9.1.0 build v9.1.0rc0 (mac64)\n",
      "Thread count: 6 physical cores, 12 logical processors, using up to 12 threads\n",
      "Optimize a model with 14 rows, 20 columns and 40 nonzeros\n",
      "Model fingerprint: 0xe1e9d99f\n",
      "Variable types: 0 continuous, 20 integer (20 binary)\n",
      "Coefficient statistics:\n",
      "  Matrix range     [1e+00, 1e+00]\n",
      "  Objective range  [9e+02, 3e+03]\n",
      "  Bounds range     [1e+00, 1e+00]\n",
      "  RHS range        [1e+00, 2e+00]\n",
      "Found heuristic solution: objective 6050.0000000\n",
      "Presolve removed 7 rows and 10 columns\n",
      "Presolve time: 0.00s\n",
      "Presolved: 7 rows, 10 columns, 20 nonzeros\n",
      "Variable types: 0 continuous, 10 integer (10 binary)\n",
      "\n",
      "Root relaxation: objective 6.100000e+03, 2 iterations, 0.00 seconds\n",
      "\n",
      "    Nodes    |    Current Node    |     Objective Bounds      |     Work\n",
      " Expl Unexpl |  Obj  Depth IntInf | Incumbent    BestBd   Gap | It/Node Time\n",
      "\n",
      "*    0     0               0    6100.0000000 6100.00000  0.00%     -    0s\n",
      "\n",
      "Explored 0 nodes (2 simplex iterations) in 0.01 seconds\n",
      "Thread count was 12 (of 12 available processors)\n",
      "\n",
      "Solution count 2: 6100 6050 \n",
      "\n",
      "Optimal solution found (tolerance 1.00e-04)\n",
      "Best objective 6.100000000000e+03, best bound 6.100000000000e+03, gap 0.0000%\n"
     ]
    }
   ],
   "source": [
    "# Verify model formulation\n",
    "\n",
    "mo.write('operational.lp')\n",
    "\n",
    "# Run optimization engine\n",
    "\n",
    "mo.optimize()"
   ]
  },
  {
   "cell_type": "code",
   "execution_count": 49,
   "metadata": {},
   "outputs": [
    {
     "name": "stdout",
     "output_type": "stream",
     "text": [
      "\n",
      "Optimal assignment of product offers to customers.\n",
      "___________________________________________________\n",
      "Customer c1 in cluster k1 gets an offer of product p2:\n",
      "The expected profit is $1,050.00 at a cost of $105.00\n",
      "Customer c2 in cluster k1 gets an offer of product p2:\n",
      "The expected profit is $950.00 at a cost of $95.00\n",
      "Customer c3 in cluster k1 gets an offer of product p1:\n",
      "The expected profit is $2,000.00 at a cost of $200.00\n",
      "Customer c4 in cluster k1 gets an offer of product p1:\n",
      "The expected profit is $2,100.00 at a cost of $210.00\n",
      "___________________________________________________\n",
      "Number of assignments in cluster k1 is 4\n",
      "___________________________________________________\n",
      "___________________________________________________\n",
      "Number of assignments in cluster k2 is 0\n",
      "___________________________________________________\n",
      "\n",
      "\n",
      "Financial reports.\n",
      "___________________________________________________\n",
      "Optimal total customers profit is $6,100.00.\n",
      "Optimal total customers cost is $610.00 with a budget of $200.00 and an extra amount of $400.00.\n",
      "Optimal ROI is 1000.0% with a minimum ROI of  120.0%.\n"
     ]
    }
   ],
   "source": [
    "### Output Reports\n",
    "\n",
    "# Optimal assignment of product offers to customers\n",
    "\n",
    "total_customer_profit = 0\n",
    "total_customer_cost = 0\n",
    "\n",
    "kvalue = None\n",
    "first = True\n",
    "num_assignments = 0\n",
    "\n",
    "print(\"\\nOptimal assignment of product offers to customers.\")\n",
    "print(\"___________________________________________________\")\n",
    "for k,i,j in ccp:\n",
    "    if k != kvalue:\n",
    "        prevk = kvalue\n",
    "        kvalue = k\n",
    "        if not first:\n",
    "            print(\"___________________________________________________\")\n",
    "            print(f\"Number of assignments in cluster {prevk} is {num_assignments}\")\n",
    "            print(\"___________________________________________________\")\n",
    "            num_assignments = 0\n",
    "        if first:\n",
    "            first = False\n",
    "    if x[k,i,j].x > 0.5:\n",
    "        #print(x[k,i,j].varName, x[k,i,j].x)\n",
    "        profit = '${:,.2f}'.format(customer_profit[k,i,j])\n",
    "        cost = '${:,.2f}'.format(customer_cost[k,i,j])\n",
    "        print(f\"Customer {i} in cluster {k} gets an offer of product {j}:\")\n",
    "        print(f\"The expected profit is {profit} at a cost of {cost}\")\n",
    "        total_customer_profit += customer_profit[k,i,j]*x[k,i,j].x\n",
    "        total_customer_cost += customer_cost[k,i,j]*x[k,i,j].x\n",
    "        num_assignments += 1\n",
    "print(\"___________________________________________________\")\n",
    "print(f\"Number of assignments in cluster {kvalue} is {num_assignments}\")\n",
    "print(\"___________________________________________________\\n\")\n",
    "        \n",
    "# Financial reports\n",
    "\n",
    "customers_ROI = round(100*total_customer_profit/total_customer_cost,2)\n",
    "\n",
    "money_customers_profit = '${:,.2f}'.format(total_customer_profit)\n",
    "money_customers_cost = '${:,.2f}'.format(total_customer_cost)\n",
    "\n",
    "print(f\"\\nFinancial reports.\")\n",
    "print(\"___________________________________________________\")\n",
    "print(f\"Optimal total customers profit is {money_customers_profit}.\")\n",
    "print(f\"Optimal total customers cost is {money_customers_cost} with a budget of {money_budget} and an extra amount of {increased_budget}.\")\n",
    "print(f\"Optimal ROI is {customers_ROI}% with a minimum ROI of  {min_ROI}%.\")\n",
    "        \n"
   ]
  },
  {
   "cell_type": "markdown",
   "metadata": {},
   "source": [
    "## Analysis\n",
    "Each customer got, at most, one product offer.  Product p2 is offered to customers c1 and c2, and product p1 is offered to customers c3 and c4. Products p1 and p2 are offerred to at least two customers -this is a constraint from the tactical model. Observe that to ensure these hard business constraints, the budget needs to be increased by $\\$400$\n",
    "\n",
    "The cost of assigning  products to customers is $\\$610$, which slightly violates the total budget available of $\\$600$. The total customers profit is $\\$6,100$. The  ROI is 1,000 %, which is much higher than the minimum ROI required.\n",
    "\n",
    "If the total available budget needs to be enforced, the following constraint can be added to the operational model:\n",
    "\n",
    "- **Budget**. Enforce budget constraint.\n",
    "\n",
    "\\begin{equation}\n",
    "\\sum_{k \\in K}  \\sum_{i \\in I^{k}} \\sum_{j \\in J^{k}} c_{k,i,j} \\cdot x_{k,i,j} \\leq B'\n",
    "\\tag{4}\n",
    "\\end{equation}\n",
    "\n",
    "The new budget is the original budget plus the correction, that is  $B' = B + z$"
   ]
  },
  {
   "cell_type": "markdown",
   "metadata": {},
   "source": [
    "## Scenario 1\n",
    "Enforce total budget available constraint. In this case, the operational model is:\n",
    "\n",
    "### Objective function\n",
    "\n",
    "- **Total profit**. Maximize total individual expected profit.\n",
    "\n",
    "\\begin{equation}\n",
    "\\text{Max} \\quad Z = \\sum_{k \\in K}  \\sum_{i \\in I^{k}} \\sum_{j \\in J^{k}} r_{k,i,j} \\cdot x_{k,i,j}\n",
    "\\tag{0}\n",
    "\\end{equation}\n",
    "\n",
    "### Constraints\n",
    "\n",
    "- **Product offers**. Allocate offers of a product to customers of each cluster.\n",
    "\n",
    "\\begin{equation}\n",
    "\\sum_{i \\in  I^{k}}  x_{k,i,j} = Y_{k,j}  \\quad \\forall j \\in J^{k}, k \\in K\n",
    "\\tag{1}\n",
    "\\end{equation}\n",
    "\n",
    "- **Offers limit**. At most one product may be offered to a customer in each cluster.\n",
    "\n",
    "\\begin{equation}\n",
    "\\sum_{j \\in J^{k}} x_{k,i,j} \\leq 1 \\quad \\forall i \\in I^{k}, k \\in K\n",
    "\\tag{2}\n",
    "\\end{equation}\n",
    "\n",
    "- **Budget**. Enforce budget constraint.\n",
    "\n",
    "\\begin{equation}\n",
    "\\sum_{k \\in K}  \\sum_{i \\in I^{k}} \\sum_{j \\in J^{k}} c_{k,i,j} \\cdot x_{k,i,j} \\leq B'\n",
    "\\tag{3}\n",
    "\\end{equation}"
   ]
  },
  {
   "cell_type": "code",
   "execution_count": 50,
   "metadata": {},
   "outputs": [],
   "source": [
    "### Operational model enforcing constraint for total budget available \n",
    "\n",
    "# Declare and initialize model\n",
    "mob = gp.Model('OperationalB')\n",
    "\n",
    "### Decision variables\n",
    "\n",
    "xb = mob.addVars(ccp, vtype=GRB.BINARY, name=\"assign\")"
   ]
  },
  {
   "cell_type": "code",
   "execution_count": 51,
   "metadata": {},
   "outputs": [],
   "source": [
    "# Product offers constraint\n",
    "\n",
    "productOffersb = {}\n",
    "\n",
    "for k in clusters:\n",
    "    for j in products:\n",
    "            productOffersb[k,j] = mob.addConstr(gp.quicksum(xb[k,i,j] for kk,i,jj in ccp if (kk ==k and jj == j)) == \n",
    "                                              int(y[k,j].x), name='prodOffersb_' + str(k) + ',' + str(j) )"
   ]
  },
  {
   "cell_type": "code",
   "execution_count": 52,
   "metadata": {},
   "outputs": [],
   "source": [
    "# limit on the number of offers to each customer in a cluster.\n",
    "\n",
    "customerOffersb = {}\n",
    "\n",
    "for k,i in ki:\n",
    "    customerOffersb[k,i] = mob.addConstr(gp.quicksum(xb[k,i,j] for kk,ii,j in ccp if (kk == k and ii == i) ) <= 1, \n",
    "                                          name ='custOffersb_' + str(k) + ',' + str(i) )"
   ]
  },
  {
   "cell_type": "code",
   "execution_count": 53,
   "metadata": {},
   "outputs": [],
   "source": [
    "# budget constraint\n",
    "\n",
    "# New budget\n",
    "new_budget = budget + z.x\n",
    "\n",
    "totBudget = mob.addConstr(xb.prod(customer_cost) <= new_budget, name='total_budget')"
   ]
  },
  {
   "cell_type": "code",
   "execution_count": 54,
   "metadata": {},
   "outputs": [],
   "source": [
    "### Objective function\n",
    "\n",
    "# Maximize total profit\n",
    "\n",
    "mob.setObjective(xb.prod(customer_profit), GRB.MAXIMIZE)"
   ]
  },
  {
   "cell_type": "code",
   "execution_count": 55,
   "metadata": {},
   "outputs": [
    {
     "name": "stdout",
     "output_type": "stream",
     "text": [
      "Gurobi Optimizer version 9.1.0 build v9.1.0rc0 (mac64)\n",
      "Thread count: 6 physical cores, 12 logical processors, using up to 12 threads\n",
      "Optimize a model with 15 rows, 20 columns and 60 nonzeros\n",
      "Model fingerprint: 0x96da858f\n",
      "Variable types: 0 continuous, 20 integer (20 binary)\n",
      "Coefficient statistics:\n",
      "  Matrix range     [1e+00, 3e+02]\n",
      "  Objective range  [9e+02, 3e+03]\n",
      "  Bounds range     [1e+00, 1e+00]\n",
      "  RHS range        [1e+00, 6e+02]\n",
      "Found heuristic solution: objective 5950.0000000\n",
      "Presolve removed 7 rows and 10 columns\n",
      "Presolve time: 0.00s\n",
      "Presolved: 8 rows, 10 columns, 28 nonzeros\n",
      "Variable types: 0 continuous, 10 integer (10 binary)\n",
      "\n",
      "Root relaxation: objective 6.000000e+03, 2 iterations, 0.00 seconds\n",
      "\n",
      "    Nodes    |    Current Node    |     Objective Bounds      |     Work\n",
      " Expl Unexpl |  Obj  Depth IntInf | Incumbent    BestBd   Gap | It/Node Time\n",
      "\n",
      "*    0     0               0    6000.0000000 6000.00000  0.00%     -    0s\n",
      "\n",
      "Explored 0 nodes (2 simplex iterations) in 0.01 seconds\n",
      "Thread count was 12 (of 12 available processors)\n",
      "\n",
      "Solution count 2: 6000 5950 \n",
      "\n",
      "Optimal solution found (tolerance 1.00e-04)\n",
      "Best objective 6.000000000000e+03, best bound 6.000000000000e+03, gap 0.0000%\n"
     ]
    }
   ],
   "source": [
    "# Verify model formulation\n",
    "\n",
    "mob.write('operationalB.lp')\n",
    "\n",
    "# Run optimization engine\n",
    "\n",
    "mob.optimize()"
   ]
  },
  {
   "cell_type": "code",
   "execution_count": 56,
   "metadata": {},
   "outputs": [
    {
     "name": "stdout",
     "output_type": "stream",
     "text": [
      "\n",
      "Optimal assignment of product offers to customers.\n",
      "___________________________________________________\n",
      "Customer c1 in cluster k1 gets an offer of product p2:\n",
      "The expected profit is $1,050.00 at a cost of $105.00\n",
      "Customer c2 in cluster k1 gets an offer of product p1:\n",
      "The expected profit is $1,950.00 at a cost of $195.00\n",
      "Customer c4 in cluster k1 gets an offer of product p1:\n",
      "The expected profit is $2,100.00 at a cost of $210.00\n",
      "Customer c5 in cluster k1 gets an offer of product p2:\n",
      "The expected profit is $900.00 at a cost of $90.00\n",
      "___________________________________________________\n",
      "Number of assignments in cluster k1 is 4\n",
      "___________________________________________________\n",
      "___________________________________________________\n",
      "Number of assignments in cluster k2 is 0\n",
      "___________________________________________________\n",
      "\n",
      "\n",
      "Financial reports.\n",
      "___________________________________________________\n",
      "Optimal total customers profit is $6,000.00.\n",
      "Optimal total customers cost is $600.00 with a budget of $200.00 and an extra amount of $400.00.\n",
      "Optimal ROI is 1000.0% with a minimum ROI of  120.0%.\n"
     ]
    }
   ],
   "source": [
    "### Output Reports\n",
    "\n",
    "# Optimal assignment of product offers to customers\n",
    "\n",
    "total_customer_profitb = 0\n",
    "total_customer_costb = 0\n",
    "\n",
    "kvalueb = None\n",
    "firstb = True\n",
    "num_assignmentsb = 0\n",
    "\n",
    "print(\"\\nOptimal assignment of product offers to customers.\")\n",
    "print(\"___________________________________________________\")\n",
    "for k,i,j in ccp:\n",
    "    if k != kvalueb:\n",
    "        prevkb = kvalueb\n",
    "        kvalueb = k\n",
    "        if not firstb:\n",
    "            print(\"___________________________________________________\")\n",
    "            print(f\"Number of assignments in cluster {prevkb} is {num_assignmentsb}\")\n",
    "            print(\"___________________________________________________\")\n",
    "            num_assignmentsb = 0\n",
    "        if firstb:\n",
    "            firstb = False\n",
    "    if xb[k,i,j].x > 0.5:\n",
    "        #print(x[k,i,j].varName, x[k,i,j].x)\n",
    "        profitb = '${:,.2f}'.format(customer_profit[k,i,j])\n",
    "        costb = '${:,.2f}'.format(customer_cost[k,i,j])\n",
    "        print(f\"Customer {i} in cluster {k} gets an offer of product {j}:\")\n",
    "        print(f\"The expected profit is {profitb} at a cost of {costb}\")\n",
    "        total_customer_profitb += customer_profit[k,i,j]*xb[k,i,j].x\n",
    "        total_customer_costb += customer_cost[k,i,j]*xb[k,i,j].x\n",
    "        num_assignmentsb += 1\n",
    "print(\"___________________________________________________\")\n",
    "print(f\"Number of assignments in cluster {kvalueb} is {num_assignmentsb}\")\n",
    "print(\"___________________________________________________\\n\")\n",
    "        \n",
    "# Financial reports\n",
    "\n",
    "customers_ROIb = round(100*total_customer_profitb/total_customer_costb,2)\n",
    "\n",
    "money_customers_profitb = '${:,.2f}'.format(total_customer_profitb)\n",
    "money_customers_costb = '${:,.2f}'.format(total_customer_costb)\n",
    "\n",
    "print(f\"\\nFinancial reports.\")\n",
    "print(\"___________________________________________________\")\n",
    "print(f\"Optimal total customers profit is {money_customers_profitb}.\")\n",
    "print(f\"Optimal total customers cost is {money_customers_costb} with a budget of {money_budget} and an extra amount of {increased_budget}.\")\n",
    "print(f\"Optimal ROI is {customers_ROIb}% with a minimum ROI of  {min_ROI}%.\")"
   ]
  },
  {
   "cell_type": "markdown",
   "metadata": {},
   "source": [
    "## Analysis\n",
    "Each customer got, at most, one product offer. Products p1 and p2 are offerred to at least two customers. The cost of assigning  products to customers is $\\$600$, which is equal to the total budget available. The total customers profit is $\\$6,000$. The  ROI is 1,000 %, which is much higher than the minimum ROI required.\n",
    "\n",
    "In this scenario, we enforce the total available budget constraint and we get a different distribution for the assignment. \n",
    "Product p1 is offered to customers c2 and c4, and product p2 is offered to customers c1 and c5. "
   ]
  },
  {
   "cell_type": "markdown",
   "metadata": {},
   "source": [
    "##  Conclusion\n",
    "\n",
    "In this Jupyter Notebook, we discussed the importance of marketing campaigns for the banking industry. We discussed that machine learning predictive response models can be used to provide the input data of a marketing campaign optimization problem. We showed how the marketing campaign optimization problem can be decomposed into a tactical problem and an operational problem.\n",
    "\n",
    "The tactical problem is formulated as a linear programming problem where we aggregate data generated by the machine learning predictive response models.\n",
    "\n",
    "The solution of the tactical problem determines what products to offer to customers in clusters while maximizing the marketing campaign expected profits and considering the following constraints: \n",
    "\n",
    "* limits on funding available for the campaign.\n",
    "* restrictions on the minimum number of product offers that can be made in a campaign.\n",
    "* campaign return-on-investment hurdle rates that must be met.\n",
    "\n",
    "The operational problem is formulated as a MIP model, where the expected customer  profits and the output of the tactical model can be used as inputs to assign products offers to individual customers in such way that the total customers profit is maximized. We considered two cases for the operational problem. In the first case, the total available budget determined by tactical problem is not enforced. This means that the optimal solution of this problem might have slight violations of the total available budget. In the second case, we enforce a total available budget.\n"
   ]
  },
  {
   "cell_type": "markdown",
   "metadata": {
    "pycharm": {
     "name": "#%% md\n"
    }
   },
   "source": [
    "##  参考\n",
    "\n",
    "[1] M. D. Cohen. *Exploiting response models—optimizing cross-sell and up-sell opportunities in banking.* Information Systems. Vol. 29. issue 4, June 2004, Pages 327-341\n",
    "\n",
    "\n",
    "Copyright © 2020 Gurobi Optimization, LLC\n",
    "\n",
    "\n"
   ]
  }
 ],
 "metadata": {
  "kernelspec": {
   "display_name": "Python 3",
   "language": "python",
   "name": "python3"
  },
  "language_info": {
   "codemirror_mode": {
    "name": "ipython",
    "version": 3
   },
   "file_extension": ".py",
   "mimetype": "text/x-python",
   "name": "python",
   "nbconvert_exporter": "python",
   "pygments_lexer": "ipython3",
   "version": "3.8.0"
  }
 },
 "nbformat": 4,
 "nbformat_minor": 2
}