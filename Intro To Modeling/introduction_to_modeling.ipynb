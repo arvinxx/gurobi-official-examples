{
 "cells": [
  {
   "cell_type": "markdown",
   "metadata": {},
   "source": [
    "# 数学优化建模简介\n",
    "\n",
    "## 目标和先决条件\n",
    "\n",
    "该建模示例的目的是在混合整数规划（MIP）问题的公式化中介绍关键元素。对于MIP问题公式的每个组成部分，我们提供描述，相关的Python代码以及描述该组成部分的数学符号。\n",
    "\n",
    "为了完全理解此部分的内容，读者应：\n",
    "\n",
    "\n",
    "* 熟悉Python。\n",
    "* 有相关学科背景，包括但不限于工程、计算机科学、经济学、统计学等各类“硬核”科学，或包含定量模型和方法的任一学科。\n",
    "\n",
    "读者还应查询 Gurobi Python API 的相关 [文档](https://www.gurobi.com/resources/?category-filter=documentation)。此外，在《混合整数线性编程的系列教程》视频中详细介绍了此文档的内容。\n",
    "\n",
    "你可以在 [这里](https://www.gurobi.com/resource/tutorial-mixed-integer-linear-programming/) 观看视频教程\n",
    "\n",
    "**注意：** 你可以通过单击 [此处](https://github.com/arvinxx/gurobi-and-mathematical-modeling/archive/master.zip) 下载包含此示例和其他示例的代码仓库。为了正确运行此 Jupyter Notebook，您必须具有 Gurobi 许可证。如果您没有，则可以 *商业用户身份* 申请[评估许可证](https://www.gurobi.com/downloads/request-an-evaluation-license/)，或以 *学术用户* 的身份下载 [免费许可证](https://www.gurobi.com/academia/academic-program-and-licenses)。\n",
    "\n",
    "## 问题描述\n",
    "\n",
    "假如有一家咨询公司，它有三个空缺职位：Tester（测试）、Java Developer（Java开发）和 Architect（架构师）。这三个职位的候选人是：Carlos、Joe 和 Monika。\n",
    "这家咨询公司对每个候选人进行了能力测试，以评估他们完成每项职位的能力。这些测试的结果称为 「匹配分数」（matching scores）。假设一个职位只能分配一个候选人，并且最多可以为一个候选人分配一个职位。\n",
    "\n",
    "我们的目标是：确定候选人和职位的分配，以使每个职位都得到满足。每个候选人最多分配一个岗位，分配后的总「匹配得分」最大。\n",
    "\n",
    "\n",
    "## 数学优化\n",
    "\n",
    "数学优化（也称为数学编程）是一种声明性方法，其中建模者制定了一个优化问题，该问题捕获了复杂决策问题的关键特征。然后 Gurobi 使用最先进的数学和计算机科学技术来解决这一类数学优化问题。\n",
    "\n",
    "数学优化模型具有五个组成部分：\n",
    "\n",
    "* 数据集（Sets）\n",
    "* 参数(Parameters)\n",
    "* 决策变量(Decision variables)\n",
    "* 约束（Constraints）\n",
    "* 目标函数（Objective function(s)）\n"
   ]
  },
  {
   "cell_type": "markdown",
   "metadata": {},
   "source": [
    "以下 Python 代码导入了 Gurobi 模块，并将 `GRB` 类导入了主命名空间。\n"
   ]
  },
  {
   "cell_type": "code",
   "execution_count": 78,
   "metadata": {},
   "outputs": [],
   "source": [
    "import gurobipy as gp\n",
    "from gurobipy import GRB"
   ]
  },
  {
   "cell_type": "markdown",
   "metadata": {},
   "source": [
    "## 候选人分配问题\n",
    "\n",
    "### Data\n",
    "\n",
    "列表 $R$ 包含三个候选人的名称：Carlos，Joe 和 Monika。\n",
    "列表 $J$ 包含职位的名称：Tester（测试），Java Developer（Java开发） 和 Architect（架构）。\n",
    "\n",
    "$r \\in R$：索引和候选人集。候选人 $r$ 属于候选人集 $R$。\n",
    "\n",
    "$j \\in j$：索引和职位集。职位 $j$ 属于职位集 $J$。\n",
    "\n",
    "\n",
    "\n",
    "\n"
   ]
  },
  {
   "cell_type": "code",
   "execution_count": 79,
   "metadata": {},
   "outputs": [],
   "source": [
    "# 候选人集和职位集\n",
    "R = ['Carlos', 'Joe', 'Monika']\n",
    "J = ['Tester', 'JavaDeveloper', 'Architect']"
   ]
  },
  {
   "cell_type": "markdown",
   "metadata": {},
   "source": [
    "以下匹配得分表中列出了每种候选人参与每种职位的能力：\n",
    "\n",
    "![scores](https://gw.alipayobjects.com/zos/antfincdn/NWZW0Xv%24Ms/1d4ac105-34ee-446b-8974-77cdc9410763.png)\n",
    "\n",
    "对于每个候选人 $r$ 和职位 $j$，都有一个对应的匹配得分 $s$。匹配的分数 $s$ 只能接受 0 到 100 之间的值。\n",
    "\n",
    "也就是说，对于 $r \\in R $ 和 $j \\in J$ ，都有 $s_{r,j} \\in [0,100]$ 。\n",
    "\n",
    "我们使用 Gurobi Python 的`multidict` 函数来初始化一个或多个字典。该函数以字典为参数。键代表候选人和职位的可能组合。"
   ]
  },
  {
   "cell_type": "code",
   "execution_count": 80,
   "metadata": {
    "scrolled": true
   },
   "outputs": [],
   "source": [
    "# 匹配分数数据\n",
    "combinations, scores = gp.multidict({\n",
    "    ('Carlos', 'Tester'): 53,\n",
    "    ('Carlos', 'JavaDeveloper'): 27,\n",
    "    ('Carlos', 'Architect'): 13,\n",
    "    ('Joe', 'Tester'): 80,\n",
    "    ('Joe', 'JavaDeveloper'): 47,\n",
    "    ('Joe', 'Architect'): 67,\n",
    "    ('Monika', 'Tester'): 53,\n",
    "    ('Monika', 'JavaDeveloper'): 73,\n",
    "    ('Monika', 'Architect'): 47\n",
    "})"
   ]
  },
  {
   "cell_type": "markdown",
   "metadata": {},
   "source": [
    "以下构造函数创建一个空的 Model 对象 `m` 。我们通过传递字符串 `\"RAP\"` 作为参数来指定模型名称。 Model 对象 `m` 包含一个优化问题。该优化问题由一组决策变量，一组约束和目标函数组成。"
   ]
  },
  {
   "cell_type": "code",
   "execution_count": 81,
   "metadata": {},
   "outputs": [],
   "source": [
    "# 声明并初始化模型\n",
    "m = gp.Model('RAP')"
   ]
  },
  {
   "cell_type": "markdown",
   "metadata": {},
   "source": [
    "## 决策变量\n",
    "\n",
    "为了解决此分配问题，我们需要确定将哪个候选人分配给哪个职位。我们为职位的每种可能候选人分配引入一个决策变量。因此，我们有 9 个决策变量。\n",
    "\n",
    "为了简化模型公式的数学符号，我们定义了以下候选人和职位的指标:\n",
    "\n",
    "![variables](https://gw.alipayobjects.com/zos/antfincdn/LEzDic7PJB/81d8f5f2-7a92-49c4-b3a0-11879715e2fd.png)\n",
    "\n",
    "例如，$x_{2,1}$ 是与将候选人 Joe 分配给职位岗位 Tester 的决策变量。因此，如果$r \\in R$ 被分配给 $j \\in J$，则决策变量 $x_{r,j}$ 等于1，否则为0。\n",
    "\n",
    "`Model.addVars()` 方法为 Model 对象创建决策变量。此方法返回包含新创建的决策变量。该变量类型为 Gurobi 专有的 `tupledict` 对象。我们将 `combinations` 对象作为指定变量索引的第一个参数。`name` 关键字用于为新创建的决策变量命名。默认情况下，变量被假定为非负数。\n"
   ]
  },
  {
   "cell_type": "code",
   "execution_count": 82,
   "metadata": {},
   "outputs": [],
   "source": [
    "# 为RAP模型创建决策变量\n",
    "x = m.addVars(combinations, name=\"assign\")"
   ]
  },
  {
   "cell_type": "markdown",
   "metadata": {},
   "source": [
    "## 职位限制\n",
    "\n",
    "现在我们讨论与职位相关的约束。这些约束条件需要确保每个职位都恰好由一个候选人安排。\n",
    "\n",
    "Tester 职位的约束要求将候选人1（Carlos），候选人2（Joe）或候选人3（Monika）分配给该 职位。这对应于以下约束。\n",
    "\n",
    "约束 (Tester=1)\n",
    "\n",
    "$$\n",
    "x_{1,1} + x_{2,1} + x_{3,1} = 1\n",
    "$$\n",
    "\n",
    "类似地，Java职位和架构师职位的约束可以定义如下。\n",
    "\n",
    "约束 (Java Developer = 2)\n",
    "\n",
    "$$\n",
    "x_{1,2} + x_{2,2} + x_{3,2} = 1\n",
    "$$\n",
    "\n",
    "约束 (Architect = 3)\n",
    "\n",
    "$$\n",
    "x_{1,3} + x_{2,3} + x_{3,3} = 1\n",
    "$$\n",
    "\n",
    "职位约束由下表的列定义。\n",
    "\n",
    "![jobs](https://gw.alipayobjects.com/zos/antfincdn/wCDVAxhuEU/642de4a4-eae6-496b-8237-98a3acebf283.png)\n",
    "\n",
    "通常情况下，可以将 Tester 职位的约束定义如下。\n",
    "\n",
    "$$\n",
    "x_{1,1} + x_{2,1} + x_{3,1} = \\sum_{r=1}^{3 } x_{r,1} =  \\sum_{r \\in R} x_{r,1} = 1\n",
    "$$\n",
    "可以以类似简洁的方式定义所有职位约束。对于$j \\in J$，取所有候选人的决策变量的总和。我们可以如下编写相应的职位约束。\n",
    "\n",
    "$$\n",
    "\\sum_{r \\in R} x_{r,j} = 1\n",
    "$$\n",
    "\n",
    "Gurobi 的 `Model.addConstrs()` 方法定义了 Model 对象 `m` 的职位约束。此方法返回职位约束的变量，该变量类型也为 `tupledict`。\n"
   ]
  },
  {
   "cell_type": "code",
   "execution_count": 83,
   "metadata": {
    "pycharm": {
     "name": "#%%\n"
    }
   },
   "outputs": [],
   "source": [
    "# 创建职位约束\n",
    "jobs = m.addConstrs((x.sum('*',j) == 1 for j in J), name='job')"
   ]
  },
  {
   "cell_type": "markdown",
   "metadata": {
    "pycharm": {
     "name": "#%% md\n"
    }
   },
   "source": [
    "此方法的第一个参数 `x.sum(‘*’, j)` 是 sum 方法，它定义职位约束的 LHS 如下：\n",
    "\n",
    "对于职位 $J$ 中的每个职位 $j$ ，取所有候选人上决策变量的总和。`==` 定义了一个相等约束，数字 1 是这些约束的RHS。\n",
    "\n",
    "这些约束意味着每个职位只能分配一个候选人。第二个参数是此类约束的名称。"
   ]
  },
  {
   "cell_type": "markdown",
   "metadata": {},
   "source": [
    "## 候选人约束\n",
    "\n",
    "\n",
    "候选人约束需要确保至多为每个候选人分配一个职位。也就是说，可能不是所有的候选人都被分配了。\n",
    "比如这样约束：Carlos 最多分配一个职位: 职位1(Tester)、职位2 (Java)或职位3(架构师)。这个约束如下书写：\n",
    "\n",
    "约束 (Carlos=1)\n",
    "\n",
    "$$\n",
    "x_{1, 1} + x_{1, 2} + x_{1, 3}  \\leq 1.\n",
    "$$\n",
    "\n",
    "这个约束使它们的值小于或等于1，以允许 Carlos 不被分配到任何职位的可能性。同样，对候选人 Joe 和 Monika 的约束可以定义如下:\n",
    "\n",
    "约束 (Joe=2)\n",
    "\n",
    "$$\n",
    "x_{2, 1} + x_{2, 2} + x_{2, 3}  \\leq 1.\n",
    "$$\n",
    "\n",
    "约束 (Monika=3)\n",
    "\n",
    "$$\n",
    "x_{3, 1} + x_{3, 2} + x_{3, 3}  \\leq 1.\n",
    "$$\n",
    "\n",
    "请注意，候选人约束是由下表的行定义的。\n",
    "\n",
    "![resources](https://gw.alipayobjects.com/zos/antfincdn/Kaf%26AdwmYU/0dd89ba0-5688-4618-b3dd-4c26571e976f.png)\n",
    "\n",
    "候选人 Carlos 的约束可以定义如下。\n",
    "\n",
    "$$\n",
    "x_{1, 1} + x_{1, 2} + x_{1, 3} = \\sum_{j=1}^{3 } x_{1,j} = \\sum_{j \\in J} x_{1,j} \\leq 1.\n",
    "$$\n",
    "\n",
    "同样，每个约束都可以用简洁的方式书写。对于$r \\in R$，对所有职位的决策变量求和。我们可以将相应的候选人约束写如下。\n",
    "\n",
    "$$\n",
    "\\sum_{j \\in J} x_{r,j} \\leq  1.\n",
    "$$\n",
    "\n",
    "Gurbo 的 `Model.addConstrs()` 方法定义了 Model 对象 `m` 的候选人约束。\n",
    "此方法的第一个参数 `x.sum(r, ‘*’)` 是求和方法，它定义候选人约束的LHS如下： 对于候选人集 $R$ 中的每个候选人$r$，对所有职位进行决策变量的求和。`<=`定义了一个更少或相等的约束，约束的 RHS 是 1。这些限制意味着每个候选人最多只能分配1个职位。\n",
    "\n",
    "第二个参数是此类约束的名称。\n"
   ]
  },
  {
   "cell_type": "code",
   "execution_count": 84,
   "metadata": {},
   "outputs": [],
   "source": [
    "# 创建候选人约束\n",
    "resources = m.addConstrs((x.sum(r,'*') <= 1 for r in R), name='resource')"
   ]
  },
  {
   "cell_type": "markdown",
   "metadata": {},
   "source": [
    "## 目标函数\n",
    "\n",
    "目标函数是使满足职位和候选人约束的职位的总匹配得分最大化。\n",
    "\n",
    "对于测试人员职位，如果分配了候选人Carlos，其匹配分数为 $53x_{1,1}$, 如果分配了候选人 Joe，匹配分数为 $80x_{2,1}$, 如果分配了候选人 Monika，匹配分数为  $53x_{3,1}$。\n",
    "\n",
    "因此，Tester职位的匹配分数如下，其中该总和中的决策变量只有一项值为 1。\n",
    "\n",
    "$$\n",
    "53x_{1,1} + 80x_{2,1} + 53x_{3,1}. \n",
    "$$\n",
    "\n",
    "类似地，Java开发人员和架构师职位的匹配分数定义如下。Java开发人员职位的匹配分数是:\n",
    "\n",
    "$$\n",
    "27x_{1, 2} + 47x_{2, 2} + 73x_{3, 2}.\n",
    "$$\n",
    "\n",
    "架构师职位的匹配分数是:\n",
    "\n",
    "$$\n",
    "13x_{1, 3} + 67x_{2, 3} + 47x_{3, 3}.\n",
    "$$\n",
    "\n",
    "总匹配得分为下表中每个单元格的总和。\n",
    "\n",
    "![objfcn](https://gw.alipayobjects.com/zos/antfincdn/irHnhJepQ8/188b942e-a9d6-4248-8cfb-54accd1c84fb.png)\n",
    "\n",
    "目标是使分配的总匹配分数最大化。因此，目标函数定义如下。\n",
    "\n",
    "\\begin{equation}\n",
    "\\text{Maximize} \\quad (53x_{1,1} + 80x_{2,1} + 53x_{3,1}) \\; +\n",
    "\\end{equation}\n",
    "\n",
    "\\begin{equation}\n",
    "\\quad (27x_{1, 2} + 47x_{2, 2} + 73x_{3, 2}) \\; +\n",
    "\\end{equation}\n",
    "\n",
    "\\begin{equation}\n",
    "\\quad (13x_{1, 3} + 67x_{2, 3} + 47x_{3, 3}).\n",
    "\\end{equation}\n",
    "\n",
    "目标函数中括号中的每一项可以表示为:\n",
    "\n",
    "\\begin{equation}\n",
    "(53x_{1,1} + 80x_{2,1} + 53x_{3,1}) = \\sum_{r \\in R} s_{r,1}x_{r,1}.\n",
    "\\end{equation}\n",
    "\n",
    "\\begin{equation}\n",
    "(27x_{1, 2} + 47x_{2, 2} + 73x_{3, 2}) = \\sum_{r \\in R} s_{r,2}x_{r,2}.\n",
    "\\end{equation}\n",
    "\n",
    "\\begin{equation}\n",
    "(13x_{1, 3} + 67x_{2, 3} + 47x_{3, 3}) = \\sum_{r \\in R} s_{r,3}x_{r,3}.\n",
    "\\end{equation}\n",
    "\n",
    "因此，目标函数可以简写为：\n",
    "\n",
    "\\begin{equation}\n",
    "\\text{Maximize} \\quad \\sum_{j \\in J} \\sum_{r \\in R} s_{r,j}x_{r,j}.\n",
    "\\end{equation}\n",
    "\n",
    "Gurobi 的 `Model.setobobjective()` 方法定义了 Model 对象 `m` 的目标函数。"
   ]
  },
  {
   "cell_type": "code",
   "execution_count": 85,
   "metadata": {
    "pycharm": {
     "name": "#%%\n"
    }
   },
   "outputs": [],
   "source": [
    "# 目标:使所有职位的总匹配分数最大化\n",
    "m.setObjective(x.prod(scores), GRB.MAXIMIZE)"
   ]
  },
  {
   "cell_type": "markdown",
   "metadata": {
    "pycharm": {
     "name": "#%% md\n"
    }
   },
   "source": [
    "第一个参数指定了目标函数的表达式。\n",
    "\n",
    "> 注意：匹配的分数参数 score 和分配决策变量 x 都是在 `combinations` 的键上定义的。因此，我们可以使用`x.prod(score)` 的方式,得到 score 矩阵与 x 变量矩阵的元素乘法的和。\n",
    "\n",
    "第二个参数`GRB.MAXIMIZE`， `MAXIMIZE`，是优化核心目标。在这种情况下，我们想要 **最大化** 所有分配的总匹配分数。"
   ]
  },
  {
   "cell_type": "markdown",
   "metadata": {},
   "source": [
    "我们使用 Gurobi 的 `write()` 方法将模型公式写入 `RAP.lp` 文件。"
   ]
  },
  {
   "cell_type": "code",
   "execution_count": 86,
   "metadata": {},
   "outputs": [],
   "source": [
    "# 保存模型以供查看\n",
    "m.write('RAP.lp')"
   ]
  },
  {
   "cell_type": "markdown",
   "metadata": {},
   "source": [
    "![RAP](https://gw.alipayobjects.com/zos/antfincdn/J6j1Hm9Kis/8afcfa53-9d62-462d-a228-de904d9c72ed.png)"
   ]
  },
  {
   "cell_type": "markdown",
   "metadata": {},
   "source": [
    "我们使用 Gurobi 的 `optimize()` 方法来为模型对象 `m` 定义的问题求解。"
   ]
  },
  {
   "cell_type": "code",
   "execution_count": 87,
   "metadata": {
    "scrolled": true
   },
   "outputs": [
    {
     "name": "stdout",
     "output_type": "stream",
     "text": [
      "Gurobi Optimizer version 9.1.0 build v9.1.0rc0 (mac64)\n",
      "Thread count: 6 physical cores, 12 logical processors, using up to 12 threads\n",
      "Optimize a model with 6 rows, 9 columns and 18 nonzeros\n",
      "Model fingerprint: 0xb6602fb2\n",
      "Coefficient statistics:\n",
      "  Matrix range     [1e+00, 1e+00]\n",
      "  Objective range  [1e+01, 8e+01]\n",
      "  Bounds range     [0e+00, 0e+00]\n",
      "  RHS range        [1e+00, 1e+00]\n",
      "Presolve time: 0.00s\n",
      "Presolved: 6 rows, 9 columns, 18 nonzeros\n",
      "\n",
      "Iteration    Objective       Primal Inf.    Dual Inf.      Time\n",
      "       0    4.6000000e+32   1.800000e+31   4.600000e+02      0s\n",
      "       5    1.9300000e+02   0.000000e+00   0.000000e+00      0s\n",
      "\n",
      "Solved in 5 iterations and 0.01 seconds\n",
      "Optimal objective  1.930000000e+02\n"
     ]
    }
   ],
   "source": [
    "# 运行优化引擎\n",
    "m.optimize()"
   ]
  },
  {
   "cell_type": "markdown",
   "metadata": {},
   "source": [
    "使用 Gurobi 的`Model.getVars()` 方法来检索模型对象 `m` 中所有变量。\n",
    "\n",
    "`.x` 属性用于查询当前可行解下的变量值，`.varName` 属性用于获得决策变量的名称。"
   ]
  },
  {
   "cell_type": "code",
   "execution_count": 88,
   "metadata": {},
   "outputs": [
    {
     "name": "stdout",
     "output_type": "stream",
     "text": [
      "assign[Carlos,Tester] 1.0\n",
      "assign[Joe,Architect] 1.0\n",
      "assign[Monika,JavaDeveloper] 1.0\n",
      "匹配得分总分:  193.0\n"
     ]
    }
   ],
   "source": [
    "# 显示决策变量的值\n",
    "for v in m.getVars():\n",
    "    if v.x > 1e-6:\n",
    "        print(v.varName, v.x)\n",
    "\n",
    "# 显示最佳总匹配分数\n",
    "print('匹配得分总分: ', m.objVal)"
   ]
  },
  {
   "cell_type": "markdown",
   "metadata": {},
   "source": [
    "最佳分配方案是：\n",
    "\n",
    "* Carlos -> Tester, 匹配得分为 53\n",
    "* Joe -> Architect, 匹配得分为 of 67\n",
    "* Monika ->  Java Developer, 匹配得分为 73.\n",
    "\n",
    "最大匹配得分的总分为193分。\n"
   ]
  },
  {
   "cell_type": "markdown",
   "metadata": {},
   "source": [
    "## 具有预算约束的候选人分配问题\n",
    "\n",
    "现在，假设存在一个固定成本 $C_{r,j}$，将 $r \\in R$ 分配给$j \\in J$。另外一个条件则是：可以用于职位分配的预算 $B$ 是有限的。\n",
    "\n",
    "将Carlos、Joe 或 Monika 分配给任何职位的成本分别为 $\\$1000$、$\\$2000$ 和 $\\$3000$。可用预算为$\\$5000$。"
   ]
  },
  {
   "cell_type": "markdown",
   "metadata": {},
   "source": [
    "### 数据\n",
    "\n",
    "\n",
    "列表 $R$ 包含三个候选人的名称: Carlos、Joe 和 Monika。\n",
    "列表 $J$ 包含职位职位的名称：Tester，Java Developer 和 Architect。\n",
    "\n",
    "我们使用Gurobi的 `multidict` 方法初始化两个字典：\n",
    "* `scores` 定义每种候选人和职位组合的匹配分数。\n",
    "* `cost` 定义为职位分配候选人相关的固定成本。\n"
   ]
  },
  {
   "cell_type": "code",
   "execution_count": 89,
   "metadata": {},
   "outputs": [],
   "source": [
    "# 候选人和职位集\n",
    "R = ['Carlos', 'Joe', 'Monika']\n",
    "J = ['Tester', 'JavaDeveloper', 'Architect']\n",
    "\n",
    "# 匹配分数数据\n",
    "# cost 以千美元为单位\n",
    "combinations, scores, costs = gp.multidict({\n",
    "    ('Carlos', 'Tester'): [53, 1],\n",
    "    ('Carlos', 'JavaDeveloper'): [27, 1],\n",
    "    ('Carlos', 'Architect'): [13,1],\n",
    "    ('Joe', 'Tester'): [80, 2],\n",
    "    ('Joe', 'JavaDeveloper'): [47, 2],\n",
    "    ('Joe', 'Architect'): [67, 2],\n",
    "    ('Monika', 'Tester'): [53, 3] ,\n",
    "    ('Monika', 'JavaDeveloper'): [73, 3],\n",
    "    ('Monika', 'Architect'): [47, 3]\n",
    "})\n",
    "\n",
    "# 可用预算（千美元）\n",
    "budget = 5"
   ]
  },
  {
   "cell_type": "markdown",
   "metadata": {},
   "source": [
    "以下构造函数创建一个空的 Model 对象 `m` 。我们通过传递字符串 `\"RAP2\"` 作为参数来指定模型名称。 Model 对象 `m` 包含一个优化问题。该优化问题由一组决策变量，一组约束和目标函数组成。"
   ]
  },
  {
   "cell_type": "code",
   "execution_count": 90,
   "metadata": {},
   "outputs": [],
   "source": [
    "# 声明和初始化模型\n",
    "m = gp.Model('RAP2')"
   ]
  },
  {
   "cell_type": "markdown",
   "metadata": {},
   "source": [
    "### 决策变量\n",
    "\n",
    "如果 $r \\in R$ 被分配给 $j \\in J$，则决策变量 $x_{r,j}$ 为1，否则为0。\n",
    "\n",
    "`Model.addVars()` 方法定义模型对象“ m”的决策变量。\n",
    "\n",
    "由于存在预算限制，因此可能不会安排所有职位。为了解决这个问题，我们定义了一个新的决策变量，该变量指示是否安排了职位。\n",
    "\n",
    "如果职位 $j \\in J$ 没有被安排，$g_{j}$ = 1，否则为0。这个变量是一个中间变量，它指示一个职位不被安排。\n",
    "\n",
    "***备注：*** 对于 `RAP` 的先前公式，我们将赋值变量定义为非负且连续的，这是`Model.addVars()` 方法的 `vtype` 参数的默认值。\n",
    "\n",
    "然而，在 RAP2 中，由于我们添加到模型中的预算约束，我们需要显式地将这些变量定义为布尔变量。在 `addvars()` 中添加 `vtype=GRB.BINARY` 参数，将该决策变量定义为布尔类型。"
   ]
  },
  {
   "cell_type": "code",
   "execution_count": 91,
   "metadata": {},
   "outputs": [],
   "source": [
    "# 为 RAP2 模型创建决策变量\n",
    "x = m.addVars(combinations, vtype=GRB.BINARY, name=\"assign\")\n",
    "\n",
    "# 为 RAP2 模型创建差距变量\n",
    "g = m.addVars(J, name=\"gap\")"
   ]
  },
  {
   "cell_type": "markdown",
   "metadata": {},
   "source": [
    "### 职位限制\n",
    "\n",
    "由于我们预算有限，无法为职位分配候选人，因此可能无法安排所有职位。对于职位约束，存在两种可能性，即该职位有候选人安排，或者没有被安排。因此我们需要声明一个变量 $g_j$ 捕获后一种可能性。因此，职位约束如下。\n",
    "\n",
    "对于 $j \\in J$，必须给职位分配一个候选人，或者必须将相应的 $g_j$ 变量设为1:\n",
    "\n",
    "$$\n",
    "\\sum_{r \\: \\in \\: R} x_{r,\\; j} + g_{j} = 1.\n",
    "$$\n"
   ]
  },
  {
   "cell_type": "code",
   "execution_count": 92,
   "metadata": {},
   "outputs": [],
   "source": [
    "# 创建职位限制\n",
    "jobs = m.addConstrs((x.sum('*',j) + g[j]  == 1 for j in J), name='job')"
   ]
  },
  {
   "cell_type": "markdown",
   "metadata": {},
   "source": [
    "### 候选人限制\n",
    "\n",
    "候选人约束需要确保至多为每个候选人分配一个职位。也就是说，可能不是所有的候选人都被分配了。因此，将候选人约束写如下。\n",
    "\n",
    "对于$r \\in R$，最多只能给该候选人分配一个职位:\n",
    "\n",
    "$$\n",
    "\\sum_{j \\: \\in \\: J} x_{r,\\; j} \\leq 1.\n",
    "$$"
   ]
  },
  {
   "cell_type": "code",
   "execution_count": 1,
   "metadata": {},
   "outputs": [
    {
     "ename": "NameError",
     "evalue": "name 'm' is not defined",
     "output_type": "error",
     "traceback": [
      "\u001B[0;31m---------------------------------------------------------------------------\u001B[0m",
      "\u001B[0;31mNameError\u001B[0m                                 Traceback (most recent call last)",
      "\u001B[0;32m<ipython-input-1-dab3148427a2>\u001B[0m in \u001B[0;36m<module>\u001B[0;34m\u001B[0m\n\u001B[1;32m      1\u001B[0m \u001B[0;31m# 创建候选人约束\u001B[0m\u001B[0;34m\u001B[0m\u001B[0;34m\u001B[0m\u001B[0;34m\u001B[0m\u001B[0m\n\u001B[0;32m----> 2\u001B[0;31m \u001B[0mresources\u001B[0m \u001B[0;34m=\u001B[0m \u001B[0mm\u001B[0m\u001B[0;34m.\u001B[0m\u001B[0maddConstrs\u001B[0m\u001B[0;34m(\u001B[0m\u001B[0;34m(\u001B[0m\u001B[0mx\u001B[0m\u001B[0;34m.\u001B[0m\u001B[0msum\u001B[0m\u001B[0;34m(\u001B[0m\u001B[0mr\u001B[0m\u001B[0;34m,\u001B[0m\u001B[0;34m'*'\u001B[0m\u001B[0;34m)\u001B[0m \u001B[0;34m<=\u001B[0m \u001B[0;36m1\u001B[0m \u001B[0;32mfor\u001B[0m \u001B[0mr\u001B[0m \u001B[0;32min\u001B[0m \u001B[0mR\u001B[0m\u001B[0;34m)\u001B[0m\u001B[0;34m,\u001B[0m \u001B[0mname\u001B[0m\u001B[0;34m=\u001B[0m\u001B[0;34m'resource'\u001B[0m\u001B[0;34m)\u001B[0m\u001B[0;34m\u001B[0m\u001B[0;34m\u001B[0m\u001B[0m\n\u001B[0m",
      "\u001B[0;31mNameError\u001B[0m: name 'm' is not defined"
     ]
    }
   ],
   "source": [
    "# 创建候选人约束\n",
    "resources = m.addConstrs((x.sum(r,'*') <= 1 for r in R), name='resource')"
   ]
  },
  {
   "cell_type": "markdown",
   "metadata": {},
   "source": [
    "### 预算约束\n",
    "\n",
    "该约束条件确保分配候选人以满足职位要求的成本不超过可用预算。任务和预算的成本以千美元计。\n",
    "\n",
    "如果分配了候选人 Carlos，则安排 Tester 职位的成本为 $1x_{1,1}$，如果分配了候选人 Joe，则成本为 $2x_{2,1}$，如果为候选人 Monika，则为 $3x_{3,1}$。\n",
    "\n",
    "因此，完成Tester职位的成本如下，其中该总和中的至多一项不为零。\n",
    "\n",
    "$$\n",
    "1x_{1,1} + 2x_{2,1} + 3x_{3,1}. \n",
    "$$\n",
    "\n",
    "同样，安排 Java Developer 和 Architect 职位的成本定义如下。\n",
    "\n",
    "安排 Java Developer 职位的成本是：\n",
    "\n",
    "$$\n",
    "1x_{1, 2} + 2x_{2, 2} + 3x_{3, 2}.\n",
    "$$\n",
    "\n",
    "安排 Architect 职位的成本为：\n",
    "\n",
    "$$\n",
    "1x_{1, 3} + 2x_{2, 3} + 3x_{3, 3}.\n",
    "$$\n",
    "\n",
    "因此，填补职位空缺的总成本应该小于或等于可用的预算。\n",
    "\n",
    "\\begin{equation}\n",
    "(1x_{1,1} + 2x_{2,1} + 3x_{3,1}) \\; +\n",
    "\\end{equation}\n",
    "\n",
    "\\begin{equation}\n",
    "(1x_{1, 2} + 2x_{2, 2} + 3x_{3, 2}) \\; +\n",
    "\\end{equation}\n",
    "\n",
    "\\begin{equation}\n",
    "(1x_{1, 3} + 2x_{2, 3} + 3x_{3, 3}) \\leq 5\n",
    "\\end{equation}\n",
    "\n",
    "预算约束中的括号中的每一项可以表示为:\n",
    "\n",
    "\\begin{equation}\n",
    "(1x_{1,1} + 2x_{2,1} + 3x_{3,1}) = \\sum_{r \\in R} C_{r,1}x_{r,1}.\n",
    "\\end{equation}\n",
    "\n",
    "\\begin{equation}\n",
    "(1x_{1, 2} + 2x_{2, 2} + 3x_{3, 2}) = \\sum_{r \\in R} C_{r,2}x_{r,2}.\n",
    "\\end{equation}\n",
    "\n",
    "\\begin{equation}\n",
    "(1x_{1, 3} + 2x_{2, 3} + 3x_{3, 3}) = \\sum_{r \\in R} C_{r,3}x_{r,3}.\n",
    "\\end{equation}\n",
    "\n",
    "因此，预算约束可以简写为:\n",
    "\n",
    "\\begin{equation}\n",
    "\\sum_{j \\in J} \\sum_{r \\in R} C_{r,j}x_{r,j} \\leq B.\n",
    "\\end{equation}\n",
    "\n",
    "代码如下："
   ]
  },
  {
   "cell_type": "code",
   "execution_count": 3,
   "metadata": {},
   "outputs": [
    {
     "ename": "NameError",
     "evalue": "name 'm' is not defined",
     "output_type": "error",
     "traceback": [
      "\u001B[0;31m---------------------------------------------------------------------------\u001B[0m",
      "\u001B[0;31mNameError\u001B[0m                                 Traceback (most recent call last)",
      "\u001B[0;32m<ipython-input-3-75c38f1ed914>\u001B[0m in \u001B[0;36m<module>\u001B[0;34m\u001B[0m\n\u001B[0;32m----> 1\u001B[0;31m \u001B[0mbudget\u001B[0m \u001B[0;34m=\u001B[0m \u001B[0mm\u001B[0m\u001B[0;34m.\u001B[0m\u001B[0maddConstr\u001B[0m\u001B[0;34m(\u001B[0m\u001B[0;34m(\u001B[0m\u001B[0mx\u001B[0m\u001B[0;34m.\u001B[0m\u001B[0mprod\u001B[0m\u001B[0;34m(\u001B[0m\u001B[0mcosts\u001B[0m\u001B[0;34m)\u001B[0m \u001B[0;34m<=\u001B[0m \u001B[0mbudget\u001B[0m\u001B[0;34m)\u001B[0m\u001B[0;34m,\u001B[0m \u001B[0mname\u001B[0m\u001B[0;34m=\u001B[0m\u001B[0;34m'budget'\u001B[0m\u001B[0;34m)\u001B[0m\u001B[0;34m\u001B[0m\u001B[0;34m\u001B[0m\u001B[0m\n\u001B[0m",
      "\u001B[0;31mNameError\u001B[0m: name 'm' is not defined"
     ]
    }
   ],
   "source": [
    "budget = m.addConstr((x.prod(costs) <= budget), name='budget')"
   ]
  },
  {
   "cell_type": "markdown",
   "metadata": {
    "pycharm": {
     "name": "#%% md\n"
    }
   },
   "source": [
    "\n",
    "Gurobi 的 `Model. addconstr()` 方法定义了 Model 对象 `m` 的预算约束。\n",
    "\n",
    "此方法的第一个参数 `x.prod(costs)` 定义了预算约束的LHS。 `<=` 定义了一个更少或相等的约束，并且 `budget` 是约束的RHS。\n",
    "该约束条件是分配候选人以满足职位需求的总成本不能超过可用预算。\n",
    "\n",
    "第二个参数是此约束的名称。"
   ]
  },
  {
   "cell_type": "markdown",
   "metadata": {},
   "source": [
    "## 目标函数\n",
    "\n",
    "目标函数类似于 RAP。目标中的第一项是职位的总匹配分数。在这个 RAP 的扩展中，可能不是所有的职位都被填满了;然而，我们要严厉惩罚这种可能性。为了达到这个目的，我们在目标函数中有第二项，它将所有职位岗位的缺口变量的总和乘以一个比较大的惩罚值 $M$。\n",
    "\n",
    "目标功能类似于 RAP。目标中的第一项是职位的总匹配分数。在 RAP2 中，可能并非所有职位都已完成。因此，我们要严重惩罚这种可能性。为此目的，我们在目标函数中有第二项，它求和所有职位上的差距变量的总和，然后乘以一个大的罚分$M$。\n",
    "\n",
    "注意，匹配分数的最大值是100，而我们给$M$的值是101。$M$ 值背后的基本原理是，巨大的差值大大降低了总匹配分数值。\n",
    "\n",
    "因此，目标函数是最大化职位的总匹配分数减去差距变量等于1的惩罚值。\n",
    "$$\n",
    "\\max \\; \\sum_{j \\; \\in \\; J} \\sum_{r \\; \\in \\; R} s_{r,j}x_{r,j} -M \\sum_{j \\in J} g_{j}\n",
    "$$"
   ]
  },
  {
   "cell_type": "code",
   "execution_count": 95,
   "metadata": {},
   "outputs": [],
   "source": [
    "# 因未提供职位空缺而受到的惩罚\n",
    "M = 101"
   ]
  },
  {
   "cell_type": "code",
   "execution_count": 96,
   "metadata": {},
   "outputs": [],
   "source": [
    "# 目标：最大化职位的总匹配分数\n",
    "# 空缺职位将受到惩罚\n",
    "m.setObjective(x.prod(scores) - M*g.sum(), GRB.MAXIMIZE)"
   ]
  },
  {
   "cell_type": "code",
   "execution_count": 97,
   "metadata": {
    "scrolled": true
   },
   "outputs": [
    {
     "name": "stdout",
     "output_type": "stream",
     "text": [
      "Gurobi Optimizer version 9.1.0 build v9.1.0rc0 (mac64)\n",
      "Thread count: 6 physical cores, 12 logical processors, using up to 12 threads\n",
      "Optimize a model with 7 rows, 12 columns and 30 nonzeros\n",
      "Model fingerprint: 0xf3c6f8c8\n",
      "Variable types: 3 continuous, 9 integer (9 binary)\n",
      "Coefficient statistics:\n",
      "  Matrix range     [1e+00, 3e+00]\n",
      "  Objective range  [1e+01, 1e+02]\n",
      "  Bounds range     [1e+00, 1e+00]\n",
      "  RHS range        [1e+00, 5e+00]\n",
      "Presolve time: 0.00s\n",
      "Presolved: 7 rows, 12 columns, 30 nonzeros\n",
      "Variable types: 0 continuous, 12 integer (12 binary)\n",
      "Found heuristic solution: objective 52.0000000\n",
      "\n",
      "Root relaxation: objective 1.350000e+02, 4 iterations, 0.00 seconds\n",
      "\n",
      "    Nodes    |    Current Node    |     Objective Bounds      |     Work\n",
      " Expl Unexpl |  Obj  Depth IntInf | Incumbent    BestBd   Gap | It/Node Time\n",
      "\n",
      "     0     0  135.00000    0    2   52.00000  135.00000   160%     -    0s\n",
      "     0     0  121.66667    0    7   52.00000  121.66667   134%     -    0s\n",
      "     0     0     cutoff    0        52.00000   52.00000  0.00%     -    0s\n",
      "\n",
      "Cutting planes:\n",
      "  Gomory: 1\n",
      "  GUB cover: 1\n",
      "  RLT: 1\n",
      "\n",
      "Explored 1 nodes (7 simplex iterations) in 0.01 seconds\n",
      "Thread count was 12 (of 12 available processors)\n",
      "\n",
      "Solution count 1: 52 \n",
      "\n",
      "Optimal solution found (tolerance 1.00e-04)\n",
      "Best objective 5.200000000000e+01, best bound 5.200000000000e+01, gap 0.0000%\n"
     ]
    }
   ],
   "source": [
    "# 运行优化引擎\n",
    "m.optimize()"
   ]
  },
  {
   "cell_type": "markdown",
   "metadata": {},
   "source": [
    "目标函数的定义包括不安排职位的惩罚。然而，我们感兴趣的是当所有的职位不被填满时的最优总匹配分值。为此，我们需要使用匹配分值 $s_{r,j}$ 和分配决策变量 $x_{r,j}$ 计算总匹配分值。"
   ]
  },
  {
   "cell_type": "code",
   "execution_count": 98,
   "metadata": {},
   "outputs": [
    {
     "name": "stdout",
     "output_type": "stream",
     "text": [
      "assign[Joe,Tester] 1.0\n",
      "assign[Monika,JavaDeveloper] 1.0\n",
      "Total matching score:  153.0\n"
     ]
    }
   ],
   "source": [
    "# 根据分配变量计算总匹配得分\n",
    "total_matching_score = 0\n",
    "for r, j in combinations:\n",
    "    if x[r, j].x > 1e-6:\n",
    "        print(x[r, j].varName, x[r, j].x) \n",
    "        total_matching_score += scores[r, j]*x[r, j].x\n",
    "\n",
    "print('Total matching score: ', total_matching_score)  "
   ]
  },
  {
   "cell_type": "markdown",
   "metadata": {},
   "source": [
    "### 分析"
   ]
  },
  {
   "cell_type": "markdown",
   "metadata": {},
   "source": [
    "回想一下，预算是$\\$5,000$，与分配三个候选人相关的总成本是$\\$6,000$。这意味着没有足够的预算来分配我们拥有的三种候选人。因此，Gurobi 优化器必须选择两个候选人来满足职位需求（放着一个职位没人干），并使总匹配分数最大化。\n",
    "\n",
    "最大匹配的两个分数分别是80%( Joe-> 测试人员)和73% (Monika -> Java开发人员)。最低的分数是13%(建筑师职位的Carlos)。\n",
    "\n",
    "将 Joe 分配给测试人员的职位，将Monika分配给Java开发人员的职位，而没有人分配给架构师的职位需要花费 $\\$5,000$，并且产生的匹配总分为153。这是由 Gurobi 优化器找到的最优解决方案。"
   ]
  },
  {
   "cell_type": "markdown",
   "metadata": {},
   "source": [
    "Copyright © 2020 Gurobi Optimization, LLC\n",
    "\n",
    "翻译 By Arvin Xu"
   ]
  }
 ],
 "metadata": {
  "kernelspec": {
   "display_name": "Python 3",
   "language": "python",
   "name": "python3"
  },
  "language_info": {
   "codemirror_mode": {
    "name": "ipython",
    "version": 3
   },
   "file_extension": ".py",
   "mimetype": "text/x-python",
   "name": "python",
   "nbconvert_exporter": "python",
   "pygments_lexer": "ipython3",
   "version": "3.8.0"
  }
 },
 "nbformat": 4,
 "nbformat_minor": 2
}